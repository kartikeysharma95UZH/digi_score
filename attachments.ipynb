{
 "cells": [
  {
   "cell_type": "code",
   "execution_count": 3,
   "metadata": {},
   "outputs": [],
   "source": [
    "# Example usage\n",
    "webpage_urls = [\n",
    "    'https://www.gemeinde-ramsau.de/',\n",
    "    'https://www.michaelnbach.at/BUeRGERSERVICE/Gemeindeservice/Formulare',\n",
    "    'https://www.wolfern.at/Buergerservice/Formulare'\n",
    "]"
   ]
  },
  {
   "cell_type": "code",
   "execution_count": 4,
   "metadata": {},
   "outputs": [
    {
     "name": "stdout",
     "output_type": "stream",
     "text": [
      "Number of attachments for https://www.gemeinde-ramsau.de/: 19\n",
      "Number of attachments for https://www.michaelnbach.at/BUeRGERSERVICE/Gemeindeservice/Formulare: 12\n",
      "Number of attachments for https://www.wolfern.at/Buergerservice/Formulare: 0\n"
     ]
    }
   ],
   "source": [
    "import requests\n",
    "from bs4 import BeautifulSoup\n",
    "import re\n",
    "\n",
    "def count_attachments(url):\n",
    "    try:\n",
    "        response = requests.get(url)\n",
    "        soup = BeautifulSoup(response.content, 'html.parser')\n",
    "\n",
    "        # Find all anchor tags\n",
    "        anchor_tags = soup.find_all('a')\n",
    "\n",
    "        # Filter anchor tags with attachment file extensions\n",
    "        attachment_tags = [tag for tag in anchor_tags if tag.get('href') and re.search(r'\\.pdf$|\\.doc$|\\.docx$', tag.get('href'))]\n",
    "\n",
    "        return len(attachment_tags)\n",
    "\n",
    "    except requests.RequestException as e:\n",
    "        print(f\"Error accessing {url}: {str(e)}\")\n",
    "\n",
    "for webpage_url in webpage_urls:\n",
    "    attachment_count = count_attachments(webpage_url)\n",
    "    print(f\"Number of attachments for {webpage_url}: {attachment_count}\")\n"
   ]
  }
 ],
 "metadata": {
  "kernelspec": {
   "display_name": "Python 3.11.3 ('ATAI')",
   "language": "python",
   "name": "python3"
  },
  "language_info": {
   "codemirror_mode": {
    "name": "ipython",
    "version": 3
   },
   "file_extension": ".py",
   "mimetype": "text/x-python",
   "name": "python",
   "nbconvert_exporter": "python",
   "pygments_lexer": "ipython3",
   "version": "3.11.3"
  },
  "orig_nbformat": 4,
  "vscode": {
   "interpreter": {
    "hash": "8a5bd05f7305901977d1548a9a057ab7833b238d223787166fbe3e2dc5aa56c0"
   }
  }
 },
 "nbformat": 4,
 "nbformat_minor": 2
}
