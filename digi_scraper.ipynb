{
 "cells": [
  {
   "cell_type": "markdown",
   "metadata": {},
   "source": [
    "# Extract the number of valid and Invalid links"
   ]
  },
  {
   "cell_type": "code",
   "execution_count": null,
   "metadata": {},
   "outputs": [],
   "source": [
    "import requests\n",
    "from bs4 import BeautifulSoup\n",
    "\n",
    "# url = \"https://esch.lu/\"\n",
    "url = \"https://beaufort.lu/\"\n",
    "response = requests.get(url)\n",
    "soup = BeautifulSoup(response.text, \"html.parser\")\n",
    "\n",
    "# Find all <a> tags with href attribute\n",
    "links = soup.find_all(\"a\")\n",
    "\n",
    "valid_links = []\n",
    "invalid_links = []\n",
    "\n",
    "for link in links:\n",
    "    href = link.get(\"href\")\n",
    "    if href:\n",
    "        href = href.strip()  # Remove leading and trailing white spaces\n",
    "        # Exclude \"#\" values, telephone numbers, and non-HTTP(S) links from invalid_links list\n",
    "        if href.startswith(\"http://\") or href.startswith(\"https://\"):\n",
    "            # Make a GET request to the link URL\n",
    "            try:\n",
    "                link_response = requests.get(href)\n",
    "                if link_response.status_code == 200:\n",
    "                    valid_links.append(href)\n",
    "                else:\n",
    "                    invalid_links.append(href)\n",
    "            except requests.exceptions.RequestException:\n",
    "                invalid_links.append(href)\n",
    "\n",
    "print(\"Valid Links Count:\", len(set(valid_links)))\n",
    "print(\"Invalid Links Count:\", len(invalid_links))"
   ]
  },
  {
   "cell_type": "markdown",
   "metadata": {},
   "source": [
    "## Recursive link access"
   ]
  },
  {
   "cell_type": "code",
   "execution_count": null,
   "metadata": {},
   "outputs": [],
   "source": [
    "# import requests\n",
    "# from bs4 import BeautifulSoup\n",
    "\n",
    "# def extract_links(url):\n",
    "#     try:\n",
    "#         response = requests.get(url)\n",
    "#         soup = BeautifulSoup(response.text, \"html.parser\")\n",
    "\n",
    "#         links = soup.find_all(\"a\")\n",
    "\n",
    "#         valid_links = []\n",
    "#         invalid_links = []\n",
    "\n",
    "#         for link in links:\n",
    "#             href = link.get(\"href\")\n",
    "#             if href:\n",
    "#                 href = href.strip()\n",
    "#                 if href.startswith(\"http://\") or href.startswith(\"https://\"):\n",
    "#                     try:\n",
    "#                         link_response = requests.get(href)\n",
    "#                         if link_response.status_code == 200:\n",
    "#                             valid_links.append(href)\n",
    "#                         else:\n",
    "#                             invalid_links.append(href)\n",
    "#                     except requests.exceptions.RequestException:\n",
    "#                         invalid_links.append(href)\n",
    "\n",
    "#         return valid_links, invalid_links\n",
    "    \n",
    "#     except requests.exceptions.RequestException:\n",
    "#         return [], [url]\n",
    "\n",
    "# # Main code\n",
    "# url = \"https://beaufort.lu/\"\n",
    "# valid_links = []\n",
    "# invalid_links = []\n",
    "\n",
    "# initial_valid_links, initial_invalid_links = extract_links(url)\n",
    "# valid_links.extend(initial_valid_links)\n",
    "# invalid_links.extend(initial_invalid_links)\n",
    "\n",
    "# for link in initial_valid_links:\n",
    "#     sub_valid_links, sub_invalid_links = extract_links(link)\n",
    "#     valid_links.extend(sub_valid_links)\n",
    "#     invalid_links.extend(sub_invalid_links)\n",
    "\n",
    "# print(\"Valid Links Count:\", len(set(valid_links)))\n",
    "# print(\"Invalid Links Count:\", len(set(invalid_links)))\n"
   ]
  },
  {
   "cell_type": "code",
   "execution_count": null,
   "metadata": {},
   "outputs": [],
   "source": [
    "print(\"d\")"
   ]
  },
  {
   "cell_type": "markdown",
   "metadata": {},
   "source": [
    "# access the links to the buttons"
   ]
  },
  {
   "cell_type": "code",
   "execution_count": null,
   "metadata": {},
   "outputs": [],
   "source": [
    "import requests\n",
    "from bs4 import BeautifulSoup\n",
    "\n",
    "url = \"https://esch.lu/\"  # Replace with the URL of the website you want to scrape\n",
    "response = requests.get(url)\n",
    "soup = BeautifulSoup(response.text, \"html.parser\")\n",
    "\n",
    "# Find all elements with class=\"button\"\n",
    "button_elements = soup.find_all(class_=\"button\")\n",
    "\n",
    "button_links = []\n",
    "\n",
    "for button in button_elements:\n",
    "    href = button.get(\"href\")\n",
    "    if href:\n",
    "        button_links.append(href)\n",
    "\n",
    "print(\"Button Links:\")\n",
    "for link in button_links:\n",
    "    print(link)"
   ]
  },
  {
   "cell_type": "markdown",
   "metadata": {},
   "source": [
    "# Contact Information"
   ]
  },
  {
   "cell_type": "code",
   "execution_count": null,
   "metadata": {},
   "outputs": [],
   "source": [
    "import requests\n",
    "from bs4 import BeautifulSoup\n",
    "from IPython.display import Image\n",
    "\n",
    "url = \"https://esch.lu/\"\n",
    "url = \"https://beaufort.lu/\"\n",
    "\n",
    "response = requests.get(url)\n",
    "soup = BeautifulSoup(response.text, \"html.parser\")\n",
    "\n",
    "address_element = soup.find(\"div\", class_=\"address\")\n",
    "# digital_services_section = soup.find(\"div\", class_=\"article-image\")\n",
    "\n",
    "if address_element:\n",
    "    address = address_element.text.strip()\n",
    "    print(\"Address:\", address)\n",
    "else:\n",
    "    print(\"Address not found\")"
   ]
  },
  {
   "cell_type": "markdown",
   "metadata": {},
   "source": [
    "# Opening Hours\n"
   ]
  },
  {
   "cell_type": "code",
   "execution_count": null,
   "metadata": {},
   "outputs": [],
   "source": [
    "import requests\n",
    "from bs4 import BeautifulSoup\n",
    "from IPython.display import Image\n",
    "\n",
    "url = \"https://esch.lu/\"\n",
    "response = requests.get(url)\n",
    "soup = BeautifulSoup(response.text, \"html.parser\")\n",
    "\n",
    "open_hours_element = soup.find(\"div\", class_=\"opening-hours\")\n",
    "# digital_services_section = soup.find(\"div\", class_=\"article-image\")\n",
    "\n",
    "if open_hours_element:\n",
    "    open_hours = open_hours_element.text.strip()\n",
    "    print(\"open_hours:\", open_hours)\n",
    "else:\n",
    "    print(\"open_hours not found\")"
   ]
  },
  {
   "cell_type": "markdown",
   "metadata": {},
   "source": [
    "# Social Media"
   ]
  },
  {
   "cell_type": "code",
   "execution_count": null,
   "metadata": {},
   "outputs": [],
   "source": [
    "import requests\n",
    "from bs4 import BeautifulSoup\n",
    "from IPython.display import Image\n",
    "\n",
    "url = \"https://esch.lu/\"\n",
    "response = requests.get(url)\n",
    "soup = BeautifulSoup(response.text, \"html.parser\")\n",
    "\n",
    "# Find all elements with social media links or icons\n",
    "# social_media_elements = soup.find_all(class_=\"sw-swp_whatsapp_icon\")\n",
    "social_media_elements = soup.find_all(class_=\"social-icons\")\n",
    "social_media_elements\n",
    "\n",
    "social_media_links = []\n",
    "\n",
    "for element in social_media_elements:\n",
    "    links = element.find_all(\"a\")\n",
    "    for link in links:\n",
    "        href = link.get(\"href\")\n",
    "        if href:\n",
    "            social_media_links.append(href)\n",
    "\n",
    "print(\"Social Media Links:\")\n",
    "for link in social_media_links:\n",
    "    print(link)"
   ]
  },
  {
   "cell_type": "markdown",
   "metadata": {},
   "source": [
    "## List of all available classes"
   ]
  },
  {
   "cell_type": "code",
   "execution_count": null,
   "metadata": {},
   "outputs": [],
   "source": [
    "import requests\n",
    "from bs4 import BeautifulSoup\n",
    "\n",
    "url = \"https://esch.lu/\"  # Replace with the URL of the website you want to scrape\n",
    "response = requests.get(url)\n",
    "soup = BeautifulSoup(response.text, \"html.parser\")\n",
    "\n",
    "class_names = set()\n",
    "\n",
    "# Find all elements with class attribute\n",
    "elements = soup.find_all(class_=True)\n",
    "\n",
    "# Extract class names from each element\n",
    "for element in elements:\n",
    "    class_names.update(element[\"class\"])\n",
    "\n",
    "print(\"Available Class Names:\")\n",
    "# for class_name in class_names:\n",
    "    # print(class_name)\n"
   ]
  },
  {
   "cell_type": "markdown",
   "metadata": {},
   "source": [
    "## Check multilinguality"
   ]
  },
  {
   "cell_type": "code",
   "execution_count": null,
   "metadata": {},
   "outputs": [],
   "source": [
    "import requests\n",
    "from bs4 import BeautifulSoup\n",
    "\n",
    "\n",
    "def has_multilingual_functionality(url):\n",
    "    response = requests.get(url)\n",
    "    soup = BeautifulSoup(response.text, \"html.parser\")\n",
    "\n",
    "    # Check for language switcher\n",
    "    language_switcher = soup.find(class_=\"language-switcher\")\n",
    "    if language_switcher:\n",
    "        print(\"1111111\")\n",
    "        return True\n",
    "\n",
    "    # Check URL structure for language identifiers\n",
    "    url_parts = url.split(\"/\")\n",
    "    if any(part for part in url_parts if len(part) == 2 and part.islower()):\n",
    "        print(\"222222\")\n",
    "        return True\n",
    "\n",
    "    # Check HTML lang attribute\n",
    "    html_tag = soup.find(\"html\")\n",
    "    if html_tag and html_tag.get(\"lang\"):\n",
    "        print(\"333333\")\n",
    "        return True\n",
    "\n",
    "    # Check for language-specific content\n",
    "    language_elements = soup.find_all(class_=\"language-content\")\n",
    "    if language_elements:\n",
    "        print(\"4444444\")\n",
    "        return True\n",
    "\n",
    "    # Check metadata or language tags\n",
    "    meta_tags = soup.find_all(\"meta\")\n",
    "    for meta_tag in meta_tags:\n",
    "        if \"lang\" in meta_tag.attrs or \"xml:lang\" in meta_tag.attrs:\n",
    "            print(\"5555555\")\n",
    "            return True\n",
    "\n",
    "    return False\n",
    "\n",
    "\n",
    "# Provide the URL of the website to check\n",
    "website_url = \"https://esch.lu/\"\n",
    "website_url = \"https://beaufort.lu/\"\n",
    "# website_url = 'https://www.nadur.gov.mt/'\n",
    "# website_url = 'https://www.deutschland.de/en'\n",
    "website_url = \"https://www.jonava.lt/\"\n",
    "website_url = \"http://www.islalocalcouncil.com/\"\n",
    "\n",
    "\n",
    "has_multilingual = has_multilingual_functionality(website_url)\n",
    "if has_multilingual:\n",
    "    print(f\"The website {website_url} has multilingual functionality.\")\n",
    "else:\n",
    "    print(f\"The website {website_url} does not have multilingual functionality.\")"
   ]
  },
  {
   "cell_type": "markdown",
   "metadata": {},
   "source": [
    "## check Mobile compatibility"
   ]
  },
  {
   "cell_type": "code",
   "execution_count": null,
   "metadata": {},
   "outputs": [],
   "source": [
    "import requests\n",
    "\n",
    "def check_mobile_compatibility(url):\n",
    "    api_url = 'https://searchconsole.googleapis.com/v1/urlTestingTools/mobileFriendlyTest:run'\n",
    "\n",
    "    headers = {'Content-Type': 'application/json'}\n",
    "    payload = {'url': url, 'requestScreenshot': True}\n",
    "\n",
    "    response = requests.post(f'{api_url}?key={api_key}', headers=headers, json=payload)\n",
    "    data = response.json()\n",
    "#     print(data)\n",
    "    \n",
    "    # Check for errors in the response\n",
    "    if 'error' in data:\n",
    "        print('An error occurred:', data['error']['message'])\n",
    "        # Handle the error as desired\n",
    "    else:\n",
    "        # Check if mobileFriendliness key exists\n",
    "        if 'mobileFriendliness' in data:\n",
    "            mobile_friendliness = data['mobileFriendliness']\n",
    "            print('Mobile Friendliness:', mobile_friendliness)\n",
    "        else:\n",
    "            print('Mobile friendliness status not available.')\n",
    "        \n",
    "        \n",
    "# Provide the URL of the website to check\n",
    "website_url = 'https://esch.lu/'\n",
    "website_url = 'https://beaufort.lu/'\n",
    "# website_url = 'https://www.nadur.gov.mt/'\n",
    "# website_url = 'https://www.deutschland.de/en' #F\n",
    "# website_url = 'https://www.jonava.lt/'\n",
    "# website_url = 'http://www.islalocalcouncil.com/' #NF\n",
    "\n",
    "https://hamrunspartansfc.com/\n",
    "https://www.strassen.lu/  \n",
    "https://www.hercegnovi.me/sr/\n",
    "    \n",
    "\n",
    "check_mobile_compatibility(website_url)\n",
    "\n"
   ]
  },
  {
   "cell_type": "markdown",
   "metadata": {},
   "source": [
    "# Chatbot support"
   ]
  },
  {
   "cell_type": "code",
   "execution_count": null,
   "metadata": {},
   "outputs": [],
   "source": [
    "import requests\n",
    "from bs4 import BeautifulSoup\n",
    "import re\n",
    "\n",
    "def check_chatbot_support(website_url):\n",
    "    response = requests.get(website_url)\n",
    "    javascript_code = response.text\n",
    "\n",
    "    # Define keywords or patterns that indicate chatbot presence\n",
    "    chatbot_keywords = ['chatbot', 'livechat', 'virtual assistant', 'help']\n",
    "\n",
    "    for keyword in chatbot_keywords:\n",
    "        if re.search(keyword, javascript_code, re.IGNORECASE):\n",
    "            print(f\"The website {website_url} has chatbot support.\")\n",
    "            return\n",
    "\n",
    "    print(f\"The website {website_url} does not have chatbot support.\")\n",
    "\n",
    "# Example usage\n",
    "# website_url = 'https://www.icicibank.com/'\n",
    "website_url = 'https://esch.lu/'\n",
    "# website_url = 'https://beaufort.lu/'\n",
    "# website_url = 'https://www.icicibank.com/' #Yes\n",
    "# website_url = 'https://www.jonava.lt/'#no\n",
    "# website_url = 'http://www.islalocalcouncil.com/' #No\n",
    "# website_url = 'https://www.ets.org/gre.html' #Yes\n",
    "# website_url = 'https://www.maltairport.com/'\n",
    "# website_url = 'https://www.mobility.ch/en' #yes\n",
    "\n",
    "check_chatbot_support(website_url)\n"
   ]
  },
  {
   "cell_type": "markdown",
   "metadata": {},
   "source": [
    "## Contact us form (Formulaire)"
   ]
  },
  {
   "cell_type": "code",
   "execution_count": null,
   "metadata": {},
   "outputs": [],
   "source": [
    "import requests\n",
    "from bs4 import BeautifulSoup\n",
    "\n",
    "def check_contact_form(url):\n",
    "    response = requests.get(url)\n",
    "    soup = BeautifulSoup(response.content, 'html.parser')\n",
    "    \n",
    "    # Check if there is an element with the class 'contact'\n",
    "    contact_element = soup.find(class_='contact')\n",
    "    if contact_element:\n",
    "        # Check if there is an 'a' element within the contact element\n",
    "        link_element = contact_element.find('a')\n",
    "        if link_element and link_element.get('href'):\n",
    "            return True\n",
    "    \n",
    "    return False\n",
    "\n",
    "# Example usage\n",
    "website_url = 'https://www.maltairport.com/'\n",
    "# 'https://esch.lu/'\n",
    "# https://www.maltairport.com/\n",
    "has_contact_form = check_contact_form(website_url)\n",
    "\n",
    "if has_contact_form:\n",
    "    print(f\"The website {website_url} has a contact form.\")\n",
    "else:\n",
    "    print(f\"The website {website_url} does not have a contact form.\")\n"
   ]
  },
  {
   "cell_type": "markdown",
   "metadata": {},
   "source": [
    "## Generalise / Payment Services"
   ]
  },
  {
   "cell_type": "code",
   "execution_count": null,
   "metadata": {},
   "outputs": [],
   "source": [
    "import requests\n",
    "from bs4 import BeautifulSoup\n",
    "import re\n",
    "\n",
    "websites = ['https://www.sbb.ch/de/kaufen/pages/login/onboarding.xhtml;jsessionid=F3E7EAC24CB52F42C21977C108261AC0']\n",
    "payment_keywords = ['mastercard', 'visa', 'paypal']\n",
    "\n",
    "visited_links = set()  # Track visited links to avoid infinite loops\n",
    "\n",
    "def check_payment_services(website, depth=0, max_depth=2):\n",
    "    if depth > max_depth:\n",
    "        return\n",
    "    \n",
    "    try:\n",
    "        response = requests.get(website)\n",
    "        soup = BeautifulSoup(response.content, 'html.parser')\n",
    "        \n",
    "        payment_elements = soup.find_all(['div', 'span'], text=re.compile(r\"payment|pay|checkout\", re.IGNORECASE))  # Searching for payment-related elements\n",
    "        \n",
    "        website_text = soup.get_text().lower()\n",
    "        \n",
    "        payment_keywords_present = any(re.search(r\"\\b\" + re.escape(keyword) + r\"\\b\", website_text) for keyword in payment_keywords)\n",
    "        \n",
    "        if len(payment_elements) > 0 or payment_keywords_present:\n",
    "            print(f\"{website} offers online payment services.\")\n",
    "        else:\n",
    "            print(f\"{website} does not offer online payment services.\")\n",
    "        \n",
    "        # Find all links within the website and recursively check payment services on those links\n",
    "        links = soup.find_all('a', href=True)\n",
    "        for link in links:\n",
    "            url = link['href']\n",
    "            if url.startswith('/') and not url.startswith('//'):\n",
    "                url = website + url[1:]\n",
    "            if url.startswith(website) and url not in visited_links:\n",
    "                visited_links.add(url)\n",
    "                check_payment_services(url, depth=depth+1, max_depth=max_depth)\n",
    "    \n",
    "    except requests.exceptions.RequestException as e:\n",
    "        print(f\"Error accessing {website}: {str(e)}\")\n",
    "\n",
    "# Check payment services for each website in the list\n",
    "for website in websites:\n",
    "    visited_links.add(website)\n",
    "    check_payment_services(website)\n"
   ]
  },
  {
   "cell_type": "markdown",
   "metadata": {},
   "source": []
  },
  {
   "cell_type": "code",
   "execution_count": null,
   "metadata": {},
   "outputs": [],
   "source": [
    "website_url = 'https://www.michaelnbach.at/BUeRGERSERVICE/Hui-um_-_Verwaltungsgemeinschaft'\n",
    "response = requests.get(website_url)\n",
    "javascript_code = response.text\n",
    "javascript_code"
   ]
  },
  {
   "cell_type": "markdown",
   "metadata": {},
   "source": [
    "## Check attachments"
   ]
  },
  {
   "cell_type": "code",
   "execution_count": 25,
   "metadata": {},
   "outputs": [
    {
     "name": "stdout",
     "output_type": "stream",
     "text": [
      "Number of attachments: 0\n"
     ]
    }
   ],
   "source": [
    "import requests\n",
    "from bs4 import BeautifulSoup\n",
    "\n",
    "def count_attachments(url):\n",
    "    try:\n",
    "        response = requests.get(url)\n",
    "        soup = BeautifulSoup(response.text, 'html.parser')\n",
    "        attachments = soup.select('a[href$=\".pdf\"], a[href$=\".doc\"], a[href$=\".docx\"]')\n",
    "        return len(attachments)\n",
    "    except requests.RequestException as e:\n",
    "        print(f\"Error accessing {url}: {str(e)}\")\n",
    "\n",
    "# Example usage\n",
    "# webpage_url = 'https://www.michaelnbach.at/BUeRGERSERVICE/Hui-um_-_Verwaltungsgemeinschaft'  # Replace with the URL of the web page you want to check\n",
    "\n",
    "webpage_url = 'https://www.wolfern.at/Buergerservice/Formulare'\n",
    "attachment_count = count_attachments(webpage_url)\n",
    "print(f\"Number of attachments: {attachment_count}\")\n"
   ]
  },
  {
   "cell_type": "code",
   "execution_count": 63,
   "metadata": {},
   "outputs": [
    {
     "data": {
      "text/plain": [
       "'\\r\\n    <!DOCTYPE html>\\r\\n\\r\\n\\r\\n    <html lang=\"de\">\\r\\n\\r\\n<head><title>\\r\\n\\tMichaelnbach - Startseite - BÜRGERSERVICE - Gemeindeservice - Gebühren & Abgaben\\r\\n</title>\\r\\n    <!-- Free Header --> <style type=\\'text/css\\'>.abt_img_spacer img[src$=\\'.jpg\\']{width: 90px;}</style>\\r\\n<meta name=\"viewport\" content=\"width=device-width, initial-scale=1.0, user-scalable=no\">\\r\\n    <link rel=\"canonical\" href=\"https://www.michaelnbach.at/BUeRGERSERVICE/Gemeindeservice/Gebuehren_Abgaben\" />\\r\\n\\r\\n    <meta name=\"viewport\" content=\"width=device-width, initial-scale=1, maximum-scale=5\" />\\r\\n\\r\\n\\r\\n    <link rel=\"stylesheet\" type=\"text/css\" href=\"/system/statV.1/web/css/riscms_pre.css\" />\\r\\n<link rel=\"stylesheet\" type=\"text/css\" href=\"/system/statV.1/Javascript/jquery/jquery-ui-1.8.17.min.css\" />\\r\\n<link rel=\"stylesheet\" type=\"text/css\" media=\"screen,print\" href=\"/css/redesignunterseite__pt.css?cts=1664458982\" />\\r\\n<link rel=\"stylesheet\" type=\"text/css\" href=\"https://cdnfile.gem2go.page/cdnstatic/system/CSSz/fontawesome/css/all.min.css\" />\\r\\n\\r\\n    \\r\\n\\r\\n    <script type=\"text/javascript\">var envurl = \"https://www.michaelnbach.at/\";</script>\\r\\n<script type=\"text/javascript\">var rissprachid = \"1\";</script>\\r\\n<script type=\"text/javascript\">var allowTracking = false;</script>\\r\\n<script src=\"/system/statV.1/Javascript/Jquery/jquery.min_1.7.2.js\" type=\"text/javascript\"></script>\\r\\n<script type=\"text/javascript\">\\r\\n                var rismap3_global_settings = { \\r\\n                    \"clickMessage\" : \"Klicken Sie hier um die Karte zu laden\", \\r\\n                    \"showbasemap\" : true,\\r\\n                    \"sgvgisenableorthophoto\" : false,\\r\\n                    \"sgvgisenableaddress\" : false,\\r\\n                    \"sgvgisenablestreet\" : false,\\r\\n                    \"zoom\": 16,\\r\\n                    \"clicktostart\": false,\\r\\n                    \"defaultlayer\": \"basemap\",\\r\\n                    \\r\\n                    \"protocol\": \"https://\",\\r\\n                    \"tilepath\": \"https://mffiles.gem2go.page/custom/michaelnbach/tiles/\",\\r\\n                    \"streetslbl\": \"Strasse\",\\r\\n                    \"addresslbl\": \"Adressen\",\\r\\n                    \"orthofotolbl\" : \"Orthofoto\"\\r\\n                }\\r\\n                $(document).ready(function(){\\r\\n                    var mapdivs = $(\".rismap3_map, .bemContainer--mapPlaceholder\");\\r\\n                    $.each(mapdivs, function() {\\r\\n                        var lf = new rismap3(this);\\r\\n                        lf.initialiseRisMap3();\\r\\n                    });\\r\\n                });\\r\\n            </script>\\r\\n<script src=\"/system/statV.1/Javascript/flipbook/js/flipbook.init.js\" type=\"text/javascript\"></script>\\r\\n<script src=\"/system/statV.1/Javascript/AdapterUtils.js\" type=\"text/javascript\"></script>\\r\\n<script src=\"/system/statV.1/Javascript/jquery/jquery-ui-1.8.17.min.js\" type=\"text/javascript\"></script>\\r\\n<script src=\"/system/statV.1/Javascript/formular/jquery.validate.js\" type=\"text/javascript\"></script>\\r\\n<script type=\"text/javascript\">$(document).ready(function(){\\r\\n                    jQuery.extend(jQuery.validator.messages, {\\r\\n                        required: \"Dieses Feld ist Pflicht!\",\\r\\n                        email: \"Bitte geben Sie eine korrekte E-Mail Adresse an!\",\\r\\n                        url: \"Bitte geben Sie einen korrekten Link an!\",\\r\\n                        number: \"Bitte geben Sie eine Zahl an!\",\\r\\n                        maxlength: \"Bitte geben Sie nicht mehr als {0} Zeichen ein.\",\\r\\n                        minlength: \"Bitte geben Sie mindestens {0} Zeichen ein.\",\\r\\n                        max: $.validator.format( \"Bitte geben Sie einen Wert kleiner oder gleich {0} ein.\" ),\\r\\n\\t\\t                min: $.validator.format( \"Bitte geben Sie einen Wert größer oder gleich {0} ein.\" )\\r\\n                    });\\r\\n\\t                $(\\'form\\').each(function() {  \\r\\n\\t\\t                var $frm = $(this);\\r\\n                        if($frm.data(\\'validator\\') == undefined){\\r\\n\\t\\t\\t                $frm.validate( {ignoreTitle: true, errorClass: \"risFrmError\"});\\r\\n\\t\\t\\t                $(\\'[type=\"submit\"]\\').click(function(){\\r\\n\\t\\t\\t\\t                var frmid = $(this).data(\"formonr\");\\r\\n                                if (typeof frmid !== \\'undefined\\')\\r\\n                                {\\r\\n\\t\\t\\t\\t\\t                $(this).closest(\\'form\\').validate().settings.ignore = \":not([data-formonr=\\'\" + frmid + \"\\'])\";\\r\\n\\t\\t\\t\\t                }\\r\\n\\t\\t\\t                });\\r\\n\\t\\t                }\\r\\n                    });\\r\\n                });\\r\\n            </script>\\r\\n<script src=\"/system/statV.1/Javascript/jquery/jquery.lazy.min.js\" type=\"text/javascript\"></script>\\r\\n<script src=\"/system/statV.1/Javascript/jquery/jquery.lazy.plugins.min.js\" type=\"text/javascript\" async=\"async\"></script>\\r\\n<script src=\"/system/statV.1/JavaScript/MenuAdapter.js\" type=\"text/javascript\"></script>\\r\\n<script src=\"/system/statV.1/JavaScript/mobileMenu.js\" type=\"text/javascript\"></script>\\r\\n<script src=\"/system/statV.1/Javascript/template.js\" type=\"text/javascript\"></script>\\r\\n\\r\\n    \\r\\n<meta name=\"description\" content=\"Michaelnbach\" lang=\"de\" />\\r\\n<meta name=\"title\" content=\"Michaelnbach - Startseite - BÜRGERSERVICE - Gemeindeservice - Gebühren &amp; Abgaben\" lang=\"de\" />\\r\\n<meta name=\"keywords\" content=\"Michaelnbach, Gemeinde, Region, Regional, Regionales, Information, System, Gemeinde, Gemeinden, Leberkäse, Bürgermeister, Martin Dammayr, Volksschule, Kindergarten, Fussball, Fußball, Tennis, Tankstelle, Das Fest, Zeltfest, Party, Rethof, Pferde, Zettelmayer, Zelli, Aichet bei Kiesenberg, Aichet bei Grub, Armau, Am Doktorberg, Brunnenweg, Grub, Haus, Oberspaching, Schölmlahn, Gasthaus, Wirtshaus, Schörgendorfer, Brandner, Dobetsberger, Lift, Friseur, Pfarre, Wagner, Ferienaktion, Tennis, Eisstock, Eisstockschiessen, Tischler, Tischlerei, Gföllner, Bestatter, Bestattung, Union, Feuerwehr, Jugend, Landjugend, Haltestelle, Bushaltestelle, Post-Partner, Spar, Nahversorgerzentrum, Gemeinderat, Blut, Blutspenden, Reisepass, Bezirkshauptmannschaft, Sportplatz, Tennisplatz, Imker, Fußballplatz, Martin Dammayr\" lang=\"de\" />\\r\\n<meta name=\"robots\" content=\"index,follow\" lang=\"de\" />\\r\\n<meta name=\"revisit-after\" content=\"7 days\" lang=\"de\" />\\r\\n<meta name=\"language\" content=\"de-AT\" lang=\"de\" />\\r\\n<meta property=\"fb:admins\" content=\"100000414979333\" lang=\"de\" />\\r\\n<meta property=\"og:title\" content=\"Michaelnbach\" lang=\"de\" />\\r\\n<meta property=\"og:site_name\" content=\"Michaelnbach\" lang=\"de\" />\\r\\n<meta property=\"og:type\" content=\"article\" lang=\"de\" />\\r\\n<meta property=\"og:url\" content=\"https://www.michaelnbach.at/BUeRGERSERVICE/Gemeindeservice/Gebuehren_Abgaben\" lang=\"de\" />\\r\\n<link id=\"ctl00_ctl00_ctl00_lightBoxCss\" href=\"/system/statV.1/web/lightboxJQuery/css/jquery.lightbox-0.5.css\" rel=\"Stylesheet\" type=\"text/css\" media=\"screen\" /></head>\\r\\n<body >\\r\\n    \\r\\n    <script src=\"/system/statV.1/Javascript/rismap3/rismap3leaflet.js\" type=\"text/javascript\"></script>\\r\\n<script src=\"/system/statV.1/web/lightboxJQuery/js/jquery.lightbox-0.5.js\" type=\"text/javascript\"></script>\\r\\n<script src=\"/system/statV.1/Javascript/socialshare/jquery.socialshareprivacy.js\" type=\"text/javascript\"></script>\\r\\n\\r\\n\\r\\n    <div id=\"main\" class=\"show-all gebuehrcmsliste\">\\r\\n        <div id=\"page_top\"></div>\\r\\n        \\r\\n            <div id=\"accesskeys\" class=\"\">\\r\\n                \\r\\n    <ul class=\"ris_skiplinkList\">\\r\\n        <li><a href=\"#content\" accesskey=\"1\" class=\"ris_skiplink\">Hauptinhalt: Kurztaste 1</a></li>\\r\\n<li><a href=\"#ctl00_ctl00_ctl00_cph_header2_ctl01\" accesskey=\"2\" class=\"ris_skiplink\">Hauptnavigation: Kurztaste 2</a></li>\\r\\n<li><a href=\"#ctl00_ctl00_ctl00_cph_col_b_ctl01\" accesskey=\"3\" class=\"ris_skiplink\">Metanavigation: Kurztaste 3</a></li>\\r\\n\\r\\n    </ul>\\r\\n\\r\\n            </div>\\r\\n\\r\\n            <div id=\"header\">\\r\\n                \\r\\n    <div class=\"width35  float_left logo\"><p><a class=\"extlink\" title=\"Zur Startseite\" target=\"_self\" href=\"http://www.michaelnbach.at/\"><img src=\"/system/web/GetImage.ashx?fileid=1198134&amp;mode=T&amp;width=550&amp;height=550&amp;ratio=true&amp;fit=false&amp;shadow=false&amp;cts=1468232695\" alt=\"logo_05\" /></a>&nbsp;</p></div><style>\\r\\n\\r\\n.sidecol-b .TreeView ul ul {\\r\\n    background-color: #ebcf8c;\\r\\n}\\r\\n\\r\\n.sidecol-b .TreeView ul li ul li a {\\r\\n    display: block;\\r\\n    padding-left: 10px;\\r\\n    background-color: #faf2e1;\\r\\n    padding-top: 5px;\\r\\n    padding-bottom: 5px;\\r\\n    margin-left: 3px;\\r\\n    font-weight: 600;\\r\\n}\\r\\n\\r\\n.sidecol-b div.TreeView ul li.TreeView-Root.TreeView-Parent.TreeView-Expanded ul li.TreeView-Parent.TreeView-Expanded.TreeView-Selected ul li a {\\r\\n    background-color: #faf2e1;\\r\\n}\\r\\n\\r\\n.sidecol-b div.TreeView ul li.TreeView-Root.TreeView-Parent.TreeView-Expanded ul li.TreeView-Parent.TreeView-Expanded.TreeView-Selected a {\\r\\n    background-color: #ebcf8c;\\r\\n    color: black;\\r\\n}\\r\\n\\r\\n.sidecol-b div.TreeView ul li.TreeView-Root.TreeView-Parent.TreeView-Expanded ul li.TreeView-Parent.TreeView-Expanded a {\\r\\n    background-color: #ebcf8c;\\r\\n    color: black;\\r\\n}\\r\\n\\r\\n.sidecol-b div.TreeView ul li.TreeView-Root.TreeView-Parent.TreeView-Expanded ul li.TreeView-Parent.TreeView-Expanded ul li a {\\r\\n    background-color: #faf2e1;\\r\\n}\\r\\n\\r\\n.sidecol-b div.TreeView ul li.TreeView-Root.TreeView-Parent.TreeView-Expanded ul li.TreeView-Leaf.TreeView-Expanded.TreeView-Selected a {\\r\\n    background-color: #ebcf8c;\\r\\n    color: black;\\r\\n}\\r\\n\\r\\n.sidecol-b .TreeView ul li ul li ul li a:hover {\\r\\n    background-color: #ebcf8c!important;\\r\\n}\\r\\n\\r\\n.sidecol-b .TreeView ul li ul li a:hover {\\r\\n    background-color: #ebcf8c!important;\\r\\n}\\r\\n\\r\\n</style><div class=\"hmenu float_right tray1\"><p class=\"TrayMenu\"><a  href=\"/system/web/default.aspx?menuonr=220529716\" class=\"schwarz-dummy\">Startseite</a> |<a  href=\"javascript:initCookieOptIn();\" title=\"Cookie-Einstellungen\" class=\"schwarz-dummy\">Cookies</a> |<a  href=\"/system/web/suche.aspx?menuonr=220529732\" class=\"schwarz-dummy\">Suche</a> |<a  href=\"/system/web/newsletterabo.aspx?typid=506&menuonr=220529803\" class=\"schwarz-dummy\">Newsletter abonnieren</a> |<a  href=\"/system/web/impressum.aspx?menuonr=223381011\" class=\"schwarz-dummy\">Impressum</a> |<a  href=\"/system/web/datenschutz.aspx?menuonr=224152447\" class=\"schwarz-empty\">Datenschutz</a> |<a  href=\"/Barrierefreiheitserklaerung_1\" title=\"Barrierefreiheitserklärung\" class=\"schwarz-empty\">Barrierefreiheit</a></p></div>\\r\\n\\r\\n            </div><div id=\"header2\">\\r\\n                \\r\\n    <div class=\"width40  float_right\">\\r\\n<div class=\"Menu-Vertical\">\\r\\n\\t\\t<ul id=\"ctl00_ctl00_ctl00_cph_header2_ctl01\" class=\"Menu\">\\r\\n\\t\\t\\t<li class=\"Menu-WithChildren width1  hmp1\"><a href=\"/MITGESTALTEN\" class=\"Menu-Link\" title=\"Mitgestalten\">\\r\\n\\t\\t\\t\\tMITGESTALTEN\\r\\n\\t\\t\\t</a>\\r\\n\\t\\t\\t<ul>\\r\\n\\t\\t\\t\\t<li class=\"Menu-Leaf Menu-WithChildren\"><a href=\"/MITGESTALTEN/AGENDA_21\" class=\"Menu-Link\" title=\"AGENDA 21 - ZUKUNFTSDIALOG\">\\r\\n\\t\\t\\t\\t\\tAGENDA 21\\r\\n\\t\\t\\t\\t</a>\\r\\n\\t\\t\\t\\t<ul class=\"forceHide\">\\r\\n\\t\\t\\t\\t\\t<li class=\"Menu-Leaf Menu-WithChildren\"><a href=\"/MITGESTALTEN/AGENDA_21/Buergerbeteiligung_in_Michaelnbach\" class=\"Menu-Link\">\\r\\n\\t\\t\\t\\t\\t\\tBürgerbeteiligung in Michaelnbach\\r\\n\\t\\t\\t\\t\\t</a>\\r\\n\\t\\t\\t\\t\\t<ul class=\"forceHide\">\\r\\n\\t\\t\\t\\t\\t\\t<li class=\"Menu-Leaf\"><a href=\"/MITGESTALTEN/AGENDA_21/Buergerbeteiligung_in_Michaelnbach/Jugendschwerpunkt_2017\" class=\"Menu-Link\">\\r\\n\\t\\t\\t\\t\\t\\t\\tJugendschwerpunkt 2017\\r\\n\\t\\t\\t\\t\\t\\t</a>\\r\\n\\t\\t\\t\\t\\t</li>\\r\\n\\t\\t\\t\\t\\t<li class=\"Menu-Leaf\"><a href=\"/MITGESTALTEN/AGENDA_21/Buergerbeteiligung_in_Michaelnbach/Miteinander_in_Michaelnbach\" class=\"Menu-Link\">\\r\\n\\t\\t\\t\\t\\t\\tMiteinander in Michaelnbach\\r\\n\\t\\t\\t\\t\\t</a>\\r\\n\\t\\t\\t\\t</li>\\r\\n\\t\\t\\t\\t<li class=\"Menu-Leaf\"><a href=\"/MITGESTALTEN/AGENDA_21/Buergerbeteiligung_in_Michaelnbach/Jung_sein_in_Michaelnbach\" class=\"Menu-Link\">\\r\\n\\t\\t\\t\\t\\tJung sein in Michaelnbach\\r\\n\\t\\t\\t\\t</a>\\r\\n\\t\\t\\t</li>\\r\\n\\t\\t\\t<li class=\"Menu-Leaf\"><a href=\"/MITGESTALTEN/AGENDA_21/Buergerbeteiligung_in_Michaelnbach/Unser_Dorfplatz\" class=\"Menu-Link\">\\r\\n\\t\\t\\t\\tUnser Dorfplatz\\r\\n\\t\\t\\t</a>\\r\\n\\t\\t</li>\\r\\n\\t\\t<li class=\"Menu-Leaf\"><a href=\"/MITGESTALTEN/AGENDA_21/Buergerbeteiligung_in_Michaelnbach/Wohnen_und_Leben\" class=\"Menu-Link\">\\r\\n\\t\\t\\tWohnen und Leben\\r\\n\\t\\t</a>\\r\\n\\t</li>\\r\\n\\t<li class=\"Menu-Leaf\"><a href=\"/MITGESTALTEN/AGENDA_21/Buergerbeteiligung_in_Michaelnbach/Verkehrssicherheit\" class=\"Menu-Link\">\\r\\n\\t\\tVerkehrssicherheit\\r\\n\\t</a>\\r\\n</li>\\r\\n<li class=\"Menu-Leaf\"><a href=\"/MITGESTALTEN/AGENDA_21/Buergerbeteiligung_in_Michaelnbach/Bildung_Talente_und_altes_Wissen\" class=\"Menu-Link\">\\r\\n\\tBildung, Talente und altes Wissen\\r\\n</a>\\r\\n</li>\\r\\n</ul>\\r\\n</li>\\r\\n</ul>\\r\\n</li>\\r\\n<li class=\"Menu-Leaf Menu-WithChildren\"><a href=\"/MITGESTALTEN/Verantwortungstraeger\" class=\"Menu-Link\">\\r\\n\\tVerantwortungsträger\\r\\n</a>\\r\\n<ul class=\"forceHide\">\\r\\n\\t<li class=\"Menu-Leaf\"><a href=\"/MITGESTALTEN/Verantwortungstraeger/Buergermeister\" class=\"Menu-Link\">\\r\\n\\t\\tBürgermeister\\r\\n\\t</a>\\r\\n</li>\\r\\n<li class=\"Menu-Leaf\"><a href=\"/MITGESTALTEN/Verantwortungstraeger/Vizebuergermeister\" class=\"Menu-Link\">\\r\\n\\tVizebürgermeister\\r\\n</a>\\r\\n</li>\\r\\n<li class=\"Menu-Leaf\"><a href=\"/MITGESTALTEN/Verantwortungstraeger/Gemeindevorstand\" class=\"Menu-Link\">\\r\\n\\tGemeindevorstand\\r\\n</a>\\r\\n</li>\\r\\n<li class=\"Menu-Leaf\"><a href=\"/MITGESTALTEN/Verantwortungstraeger/Gemeinderat\" class=\"Menu-Link\">\\r\\n\\tGemeinderat\\r\\n</a>\\r\\n</li>\\r\\n<li class=\"Menu-Leaf\"><a href=\"/MITGESTALTEN/Verantwortungstraeger/Ausschuesse\" class=\"Menu-Link\">\\r\\n\\tAusschüsse\\r\\n</a>\\r\\n</li>\\r\\n<li class=\"Menu-Leaf\"><a href=\"/MITGESTALTEN/Verantwortungstraeger/Wahlergebnisse\" class=\"Menu-Link\">\\r\\n\\tWahlergebnisse\\r\\n</a>\\r\\n</li>\\r\\n</ul>\\r\\n</li>\\r\\n<li class=\"Menu-Leaf\"><a href=\"/MITGESTALTEN/Vernetzt_in_der_Region\" class=\"Menu-Link\">\\r\\n\\tVernetzt in der Region\\r\\n</a>\\r\\n</li>\\r\\n<li class=\"Menu-Leaf Menu-WithChildren\"><a href=\"/MITGESTALTEN/Tausch_und_Verkaufsboerse\" class=\"Menu-Link\">\\r\\n\\tTausch und Verkaufsbörse\\r\\n</a>\\r\\n<ul class=\"forceHide\">\\r\\n\\t<li class=\"Menu-Leaf\"><a href=\"/MITGESTALTEN/Tausch_und_Verkaufsboerse/Inserate\" class=\"Menu-Link\">\\r\\n\\t\\tInserate\\r\\n\\t</a>\\r\\n</li>\\r\\n<li class=\"Menu-Leaf\"><a href=\"javascript:showMSModal(\\'/meineseite/inserate/detail\\', false)\" class=\"Menu-Link\" title=\"Inserate neu/ändern\">\\r\\n\\tMeine Inserate\\r\\n</a>\\r\\n</li>\\r\\n</ul>\\r\\n</li>\\r\\n<li class=\"Menu-Leaf\"><a href=\"/MITGESTALTEN/Amtstafel\" class=\"Menu-Link\">\\r\\n\\tAmtstafel\\r\\n</a>\\r\\n</li>\\r\\n</ul>\\r\\n</li>\\r\\n<li class=\"Menu-WithChildren width1 Menu-Expanded  hmp2\"><a href=\"/BUeRGERSERVICE\" class=\"Menu-Link\" title=\"Bürgerservice\">\\r\\n\\tBÜRGERSERVICE\\r\\n</a>\\r\\n<ul>\\r\\n\\t<li class=\"Menu-Leaf\"><a href=\"/BUeRGERSERVICE/Hui-um_-_Verwaltungsgemeinschaft\" class=\"Menu-Link\" title=\"Infos zur Verwaltungsgemeinschaft\">\\r\\n\\t\\t\"Hui-um\" - Verwaltungsgemeinschaft\\r\\n\\t</a>\\r\\n</li>\\r\\n<li class=\"Menu-Leaf Menu-WithChildren Menu-Expanded\"><a href=\"/BUeRGERSERVICE/Gemeindeservice\" class=\"Menu-Link\">\\r\\n\\tGemeindeservice\\r\\n</a>\\r\\n<ul class=\"forceHide\">\\r\\n\\t<li class=\"Menu-Leaf Menu-Expanded Menu-Selected\"><a href=\"/BUeRGERSERVICE/Gemeindeservice/Gebuehren_Abgaben\" class=\"Menu-Link\" title=\"Gebühren\">\\r\\n\\t\\tGebühren &amp; Abgaben\\r\\n\\t</a>\\r\\n</li>\\r\\n<li class=\"Menu-Leaf\"><a href=\"/BUeRGERSERVICE/Gemeindeservice/Formulare\" class=\"Menu-Link\">\\r\\n\\tFormulare\\r\\n</a>\\r\\n</li>\\r\\n</ul>\\r\\n</li>\\r\\n<li class=\"Menu-Leaf\"><a href=\"/BUeRGERSERVICE/Amtssignatur\" class=\"Menu-Link\">\\r\\n\\tAmtssignatur\\r\\n</a>\\r\\n</li>\\r\\n<li class=\"Menu-Leaf Menu-WithChildren\"><a href=\"/BUeRGERSERVICE/Servicemitarbeiter\" class=\"Menu-Link\">\\r\\n\\tServicemitarbeiter\\r\\n</a>\\r\\n<ul class=\"forceHide\">\\r\\n\\t<li class=\"Menu-Leaf\"><a href=\"/BUeRGERSERVICE/Servicemitarbeiter/Mitarbeiter_Gemeindeamt\" class=\"Menu-Link\">\\r\\n\\t\\tMitarbeiter Gemeindeamt\\r\\n\\t</a>\\r\\n</li>\\r\\n<li class=\"Menu-Leaf\"><a href=\"/BUeRGERSERVICE/Servicemitarbeiter/Mitarbeiter_Bauhof\" class=\"Menu-Link\">\\r\\n\\tMitarbeiter Bauhof\\r\\n</a>\\r\\n</li>\\r\\n</ul>\\r\\n</li>\\r\\n<li class=\"Menu-Leaf\"><a href=\"/BUeRGERSERVICE/Bauamt\" class=\"Menu-Link\">\\r\\n\\tBauamt\\r\\n</a>\\r\\n</li>\\r\\n<li class=\"Menu-Leaf\"><a href=\"/BUeRGERSERVICE/Budget\" class=\"Menu-Link\">\\r\\n\\tBudget\\r\\n</a>\\r\\n</li>\\r\\n<li class=\"Menu-Leaf Menu-WithChildren\"><a href=\"/BUeRGERSERVICE/Bildungseinrichtungen\" class=\"Menu-Link\" title=\"Bildungseinrichtungen/Kinderbetreuung\">\\r\\n\\tBildungseinrichtungen\\r\\n</a>\\r\\n<ul class=\"forceHide\">\\r\\n\\t<li class=\"Menu-Leaf\"><a href=\"/BUeRGERSERVICE/Bildungseinrichtungen/Tagesmuetter\" class=\"Menu-Link\">\\r\\n\\t\\tTagesmütter\\r\\n\\t</a>\\r\\n</li>\\r\\n<li class=\"Menu-Leaf\"><a href=\"/BUeRGERSERVICE/Bildungseinrichtungen/Kindergarten\" class=\"Menu-Link\">\\r\\n\\tKindergarten\\r\\n</a>\\r\\n</li>\\r\\n<li class=\"Menu-Leaf\"><a href=\"/BUeRGERSERVICE/Bildungseinrichtungen/Volksschule_Michaelnbach\" class=\"Menu-Link\">\\r\\n\\tVolksschule Michaelnbach\\r\\n</a>\\r\\n</li>\\r\\n<li class=\"Menu-Leaf\"><a href=\"/BUeRGERSERVICE/Bildungseinrichtungen/Nachmittagsbetreuung\" class=\"Menu-Link\">\\r\\n\\tNachmittagsbetreuung\\r\\n</a>\\r\\n</li>\\r\\n<li class=\"Menu-Leaf\"><a href=\"/BUeRGERSERVICE/Bildungseinrichtungen/Mittagsverpflegung\" class=\"Menu-Link\">\\r\\n\\tMittagsverpflegung\\r\\n</a>\\r\\n</li>\\r\\n<li class=\"Menu-Leaf\"><a href=\"/BUeRGERSERVICE/Bildungseinrichtungen/Elternverein\" class=\"Menu-Link\">\\r\\n\\tElternverein\\r\\n</a>\\r\\n</li>\\r\\n</ul>\\r\\n</li>\\r\\n<li class=\"Menu-Leaf\"><a href=\"/BUeRGERSERVICE/Sozialeinrichtungen\" class=\"Menu-Link\">\\r\\n\\tSozialeinrichtungen\\r\\n</a>\\r\\n</li>\\r\\n<li class=\"Menu-Leaf Menu-WithChildren\"><a href=\"/BUeRGERSERVICE/Entsorgung/Abfallservice\" class=\"Menu-Link\" title=\"Entsorgung/Abfallservice\">\\r\\n\\tEntsorgung/Abfallservice\\r\\n</a>\\r\\n<ul class=\"forceHide\">\\r\\n\\t<li class=\"Menu-Leaf\"><a href=\"http://www.michaelnbach.at/gemeindeamt/html/TKV-Waizenkirchen.pdf\" class=\"Menu-Link extlink\" title=\"Tierkörperentsorgung (Externer Link)\">\\r\\n\\t\\tTierkörperentsorgung\\r\\n\\t</a>\\r\\n</li>\\r\\n<li class=\"Menu-Leaf\"><a href=\"/BUeRGERSERVICE/Entsorgung/Abfallservice/Muellabfuhrtermine\" class=\"Menu-Link\" title=\"Hier finden Sie die nächsten Müllabfuhrtermine!\">\\r\\n\\tMüllabfuhrtermine\\r\\n</a>\\r\\n</li>\\r\\n</ul>\\r\\n</li>\\r\\n<li class=\"Menu-Leaf\"><a href=\"/BUeRGERSERVICE/Gemeinde-Zeitung\" class=\"Menu-Link\">\\r\\n\\tGemeinde-Zeitung\\r\\n</a>\\r\\n</li>\\r\\n<li class=\"Menu-Leaf\"><a href=\"/BUeRGERSERVICE/Aemter_und_Behoerden\" class=\"Menu-Link\">\\r\\n\\tÄmter und Behörden\\r\\n</a>\\r\\n</li>\\r\\n</ul>\\r\\n</li>\\r\\n<li class=\"Menu-WithChildren width1 hmp3\"><a href=\"/DORFLEBEN\" class=\"Menu-Link\" title=\"Dorfleben\">\\r\\n\\tDORFLEBEN\\r\\n</a>\\r\\n<ul>\\r\\n\\t<li class=\"Menu-Leaf Menu-WithChildren\"><a href=\"/DORFLEBEN/Soziales_Miteinander_fuer_die_Menschen_in_der_Ukraine\" class=\"Menu-Link\">\\r\\n\\t\\tSoziales Miteinander für die Menschen in der Ukraine\\r\\n\\t</a>\\r\\n\\t<ul class=\"forceHide\">\\r\\n\\t\\t<li class=\"Menu-Leaf\"><a href=\"/DORFLEBEN/Soziales_Miteinander_fuer_die_Menschen_in_der_Ukraine/Wie_kann_ich_helfen_\" class=\"Menu-Link\">\\r\\n\\t\\t\\tWie kann ich helfen?\\r\\n\\t\\t</a>\\r\\n\\t</li>\\r\\n\\t<li class=\"Menu-Leaf\"><a href=\"/DORFLEBEN/Soziales_Miteinander_fuer_die_Menschen_in_der_Ukraine/Michaelnbacher_Aktivitaeten_zur_Unterstuetzung_der_Menschen_in_der_Ukraine\" class=\"Menu-Link\">\\r\\n\\t\\tMichaelnbacher Aktivitäten zur Unterstützung der Menschen in der Ukraine\\r\\n\\t</a>\\r\\n</li>\\r\\n</ul>\\r\\n</li>\\r\\n<li class=\"Menu-Leaf\"><a href=\"/DORFLEBEN/Neuigkeiten\" class=\"Menu-Link\">\\r\\n\\tNeuigkeiten\\r\\n</a>\\r\\n</li>\\r\\n<li class=\"Menu-Leaf\"><a href=\"/DORFLEBEN/Buecherei\" class=\"Menu-Link\">\\r\\n\\tBücherei\\r\\n</a>\\r\\n</li>\\r\\n<li class=\"Menu-Leaf\"><a href=\"/DORFLEBEN/Direktvermarkter\" class=\"Menu-Link\">\\r\\n\\tDirektvermarkter\\r\\n</a>\\r\\n</li>\\r\\n<li class=\"Menu-Leaf\"><a href=\"/DORFLEBEN/Fotogalerie\" class=\"Menu-Link\">\\r\\n\\tFotogalerie\\r\\n</a>\\r\\n</li>\\r\\n<li class=\"Menu-Leaf\"><a href=\"/DORFLEBEN/Gasthaeuser\" class=\"Menu-Link\">\\r\\n\\tGasthäuser\\r\\n</a>\\r\\n</li>\\r\\n<li class=\"Menu-Leaf\"><a href=\"/DORFLEBEN/Gesunde_Gemeinde\" class=\"Menu-Link\">\\r\\n\\tGesunde Gemeinde\\r\\n</a>\\r\\n</li>\\r\\n<li class=\"Menu-Leaf Menu-WithChildren\"><a href=\"/DORFLEBEN/Pfarre\" class=\"Menu-Link\" title=\"Pfarre Michaelnbach\">\\r\\n\\tPfarre\\r\\n</a>\\r\\n<ul class=\"forceHide\">\\r\\n\\t<li class=\"Menu-Leaf\"><a href=\"/DORFLEBEN/Pfarre/Pfarrkirche_zum_Hl_Michael\" class=\"Menu-Link\" title=\"Pfarrkirche\">\\r\\n\\t\\tPfarrkirche zum Hl. Michael\\r\\n\\t</a>\\r\\n</li>\\r\\n</ul>\\r\\n</li>\\r\\n<li class=\"Menu-Leaf\"><a href=\"/DORFLEBEN/Reitwege\" class=\"Menu-Link\">\\r\\n\\tReitwege\\r\\n</a>\\r\\n</li>\\r\\n<li class=\"Menu-Leaf\"><a href=\"/DORFLEBEN/Spielplaetze\" class=\"Menu-Link\">\\r\\n\\tSpielplätze\\r\\n</a>\\r\\n</li>\\r\\n<li class=\"Menu-Leaf Menu-WithChildren\"><a href=\"/DORFLEBEN/Veranstaltungen\" class=\"Menu-Link\">\\r\\n\\tVeranstaltungen\\r\\n</a>\\r\\n<ul class=\"forceHide\">\\r\\n\\t<li class=\"Menu-Leaf\"><a href=\"javascript:showMSModal(\\'/meineseite/veranstaltungen/detail\\', false)\" class=\"Menu-Link\" title=\"Veranstaltungen neu/ändern\">\\r\\n\\t\\tMeine Veranstaltungen\\r\\n\\t</a>\\r\\n</li>\\r\\n<li class=\"Menu-Leaf\"><a href=\"/DORFLEBEN/Veranstaltungen/Veranstaltungen\" class=\"Menu-Link\">\\r\\n\\tVeranstaltungen\\r\\n</a>\\r\\n</li>\\r\\n</ul>\\r\\n</li>\\r\\n<li class=\"Menu-Leaf\"><a href=\"/DORFLEBEN/Vereine\" class=\"Menu-Link\" title=\"Vereine (FF, Musikverein, Sportunion, Imker, Landjugend, …)\">\\r\\n\\tVereine\\r\\n</a>\\r\\n</li>\\r\\n<li class=\"Menu-Leaf\"><a href=\"/DORFLEBEN/Wanderwege/Tourismus\" class=\"Menu-Link\" title=\"Wanderwege/Tourismus\">\\r\\n\\tWanderwege/Tourismus\\r\\n</a>\\r\\n</li>\\r\\n<li class=\"Menu-Leaf\"><a href=\"/DORFLEBEN/Wirtschaft\" class=\"Menu-Link\">\\r\\n\\tWirtschaft\\r\\n</a>\\r\\n</li>\\r\\n</ul>\\r\\n</li>\\r\\n<li class=\"Menu-WithChildren width1 hmp4\"><a href=\"/UNSER_MICHAELNBACH\" class=\"Menu-Link\" title=\"Unser Michaelnbach\">\\r\\n\\tUNSER MICHAELNBACH\\r\\n</a>\\r\\n<ul>\\r\\n\\t<li class=\"Menu-Leaf\"><a href=\"/UNSER_MICHAELNBACH/Zahlen_und_Fakten\" class=\"Menu-Link\">\\r\\n\\t\\tZahlen und Fakten\\r\\n\\t</a>\\r\\n</li>\\r\\n<li class=\"Menu-Leaf\"><a href=\"/UNSER_MICHAELNBACH/Ortsplan\" class=\"Menu-Link\">\\r\\n\\tOrtsplan\\r\\n</a>\\r\\n</li>\\r\\n<li class=\"Menu-Leaf Menu-WithChildren\"><a href=\"/UNSER_MICHAELNBACH/Chronik_von_Michaelnbach\" class=\"Menu-Link\">\\r\\n\\tChronik von Michaelnbach\\r\\n</a>\\r\\n<ul class=\"forceHide\">\\r\\n\\t<li class=\"Menu-Leaf Menu-WithChildren\"><a href=\"/UNSER_MICHAELNBACH/Chronik_von_Michaelnbach/Chronik_von_Michaelnbach_Autor_Alfred_Wimmer_\" class=\"Menu-Link\">\\r\\n\\t\\tChronik von Michaelnbach (Autor Alfred Wimmer)\\r\\n\\t</a>\\r\\n\\t<ul class=\"forceHide\">\\r\\n\\t\\t<li class=\"Menu-Leaf\"><a href=\"/UNSER_MICHAELNBACH/Chronik_von_Michaelnbach/Chronik_von_Michaelnbach_Autor_Alfred_Wimmer_/Vorwort\" class=\"Menu-Link piwik_download\">\\r\\n\\t\\t\\tVorwort\\r\\n\\t\\t</a>\\r\\n\\t</li>\\r\\n\\t<li class=\"Menu-Leaf\"><a href=\"http://www.michaelnbach.at/gemeindeamt/html/b_Geschichtliche-Darstellung.pdf\" class=\"Menu-Link extlink\" title=\"Geschichtliche Darstellung (Externer Link)\">\\r\\n\\t\\tGeschichtliche Darstellung\\r\\n\\t</a>\\r\\n</li>\\r\\n<li class=\"Menu-Leaf\"><a href=\"/UNSER_MICHAELNBACH/Chronik_von_Michaelnbach/Chronik_von_Michaelnbach_Autor_Alfred_Wimmer_/1120_bis_1199\" class=\"Menu-Link piwik_download\">\\r\\n\\t1120 bis 1199\\r\\n</a>\\r\\n</li>\\r\\n<li class=\"Menu-Leaf\"><a href=\"/UNSER_MICHAELNBACH/Chronik_von_Michaelnbach/Chronik_von_Michaelnbach_Autor_Alfred_Wimmer_/1200_bis_1299\" class=\"Menu-Link piwik_download\">\\r\\n\\t1200 bis 1299\\r\\n</a>\\r\\n</li>\\r\\n<li class=\"Menu-Leaf\"><a href=\"/UNSER_MICHAELNBACH/Chronik_von_Michaelnbach/Chronik_von_Michaelnbach_Autor_Alfred_Wimmer_/1300_bis_1399\" class=\"Menu-Link piwik_download\">\\r\\n\\t1300 bis 1399\\r\\n</a>\\r\\n</li>\\r\\n<li class=\"Menu-Leaf\"><a href=\"/UNSER_MICHAELNBACH/Chronik_von_Michaelnbach/Chronik_von_Michaelnbach_Autor_Alfred_Wimmer_/1400_bis_1499\" class=\"Menu-Link piwik_download\">\\r\\n\\t1400 bis 1499\\r\\n</a>\\r\\n</li>\\r\\n<li class=\"Menu-Leaf\"><a href=\"/UNSER_MICHAELNBACH/Chronik_von_Michaelnbach/Chronik_von_Michaelnbach_Autor_Alfred_Wimmer_/1500_bis_1599\" class=\"Menu-Link piwik_download\">\\r\\n\\t1500 bis 1599\\r\\n</a>\\r\\n</li>\\r\\n<li class=\"Menu-Leaf\"><a href=\"/UNSER_MICHAELNBACH/Chronik_von_Michaelnbach/Chronik_von_Michaelnbach_Autor_Alfred_Wimmer_/1600_bis_1699\" class=\"Menu-Link piwik_download\">\\r\\n\\t1600 bis 1699\\r\\n</a>\\r\\n</li>\\r\\n<li class=\"Menu-Leaf\"><a href=\"/UNSER_MICHAELNBACH/Chronik_von_Michaelnbach/Chronik_von_Michaelnbach_Autor_Alfred_Wimmer_/1700_bis_1799\" class=\"Menu-Link piwik_download\">\\r\\n\\t1700 bis 1799\\r\\n</a>\\r\\n</li>\\r\\n<li class=\"Menu-Leaf\"><a href=\"/UNSER_MICHAELNBACH/Chronik_von_Michaelnbach/Chronik_von_Michaelnbach_Autor_Alfred_Wimmer_/1800_bis_1850\" class=\"Menu-Link\">\\r\\n\\t1800 bis 1850\\r\\n</a>\\r\\n</li>\\r\\n<li class=\"Menu-Leaf\"><a href=\"/UNSER_MICHAELNBACH/Chronik_von_Michaelnbach/Chronik_von_Michaelnbach_Autor_Alfred_Wimmer_/1851_bis_1899\" class=\"Menu-Link piwik_download\">\\r\\n\\t1851 bis 1899\\r\\n</a>\\r\\n</li>\\r\\n<li class=\"Menu-Leaf\"><a href=\"/UNSER_MICHAELNBACH/Chronik_von_Michaelnbach/Chronik_von_Michaelnbach_Autor_Alfred_Wimmer_/1900_bis_1905\" class=\"Menu-Link piwik_download\">\\r\\n\\t1900 bis 1905\\r\\n</a>\\r\\n</li>\\r\\n<li class=\"Menu-Leaf\"><a href=\"/UNSER_MICHAELNBACH/Chronik_von_Michaelnbach/Chronik_von_Michaelnbach_Autor_Alfred_Wimmer_/1906_bis_1910\" class=\"Menu-Link piwik_download\">\\r\\n\\t1906 bis 1910\\r\\n</a>\\r\\n</li>\\r\\n<li class=\"Menu-Leaf\"><a href=\"/UNSER_MICHAELNBACH/Chronik_von_Michaelnbach/Chronik_von_Michaelnbach_Autor_Alfred_Wimmer_/1911_bis_1915\" class=\"Menu-Link piwik_download\">\\r\\n\\t1911 bis 1915\\r\\n</a>\\r\\n</li>\\r\\n<li class=\"Menu-Leaf\"><a href=\"/UNSER_MICHAELNBACH/Chronik_von_Michaelnbach/Chronik_von_Michaelnbach_Autor_Alfred_Wimmer_/1916_bis_1918\" class=\"Menu-Link piwik_download\">\\r\\n\\t1916 bis 1918\\r\\n</a>\\r\\n</li>\\r\\n<li class=\"Menu-Leaf\"><a href=\"/UNSER_MICHAELNBACH/Chronik_von_Michaelnbach/Chronik_von_Michaelnbach_Autor_Alfred_Wimmer_/1919_bis_1920\" class=\"Menu-Link piwik_download\">\\r\\n\\t1919 bis 1920\\r\\n</a>\\r\\n</li>\\r\\n<li class=\"Menu-Leaf\"><a href=\"/UNSER_MICHAELNBACH/Chronik_von_Michaelnbach/Chronik_von_Michaelnbach_Autor_Alfred_Wimmer_/1921_bis_1925\" class=\"Menu-Link piwik_download\">\\r\\n\\t1921 bis 1925\\r\\n</a>\\r\\n</li>\\r\\n<li class=\"Menu-Leaf\"><a href=\"/UNSER_MICHAELNBACH/Chronik_von_Michaelnbach/Chronik_von_Michaelnbach_Autor_Alfred_Wimmer_/1926_bis_1930\" class=\"Menu-Link piwik_download\">\\r\\n\\t1926 bis 1930\\r\\n</a>\\r\\n</li>\\r\\n<li class=\"Menu-Leaf\"><a href=\"/UNSER_MICHAELNBACH/Chronik_von_Michaelnbach/Chronik_von_Michaelnbach_Autor_Alfred_Wimmer_/1931_bis_1935\" class=\"Menu-Link piwik_download\">\\r\\n\\t1931 bis 1935\\r\\n</a>\\r\\n</li>\\r\\n<li class=\"Menu-Leaf\"><a href=\"/UNSER_MICHAELNBACH/Chronik_von_Michaelnbach/Chronik_von_Michaelnbach_Autor_Alfred_Wimmer_/1936_bis_1940\" class=\"Menu-Link piwik_download\">\\r\\n\\t1936 bis 1940\\r\\n</a>\\r\\n</li>\\r\\n<li class=\"Menu-Leaf\"><a href=\"/UNSER_MICHAELNBACH/Chronik_von_Michaelnbach/Chronik_von_Michaelnbach_Autor_Alfred_Wimmer_/1941_bis_1950\" class=\"Menu-Link piwik_download\">\\r\\n\\t1941 bis 1950\\r\\n</a>\\r\\n</li>\\r\\n<li class=\"Menu-Leaf\"><a href=\"/UNSER_MICHAELNBACH/Chronik_von_Michaelnbach/Chronik_von_Michaelnbach_Autor_Alfred_Wimmer_/1951_bis_1960\" class=\"Menu-Link piwik_download\">\\r\\n\\t1951 bis 1960\\r\\n</a>\\r\\n</li>\\r\\n<li class=\"Menu-Leaf\"><a href=\"/UNSER_MICHAELNBACH/Chronik_von_Michaelnbach/Chronik_von_Michaelnbach_Autor_Alfred_Wimmer_/1961_bis_1970\" class=\"Menu-Link piwik_download\">\\r\\n\\t1961 bis 1970\\r\\n</a>\\r\\n</li>\\r\\n<li class=\"Menu-Leaf\"><a href=\"/UNSER_MICHAELNBACH/Chronik_von_Michaelnbach/Chronik_von_Michaelnbach_Autor_Alfred_Wimmer_/1971_bis_1980\" class=\"Menu-Link\">\\r\\n\\t1971 bis 1980\\r\\n</a>\\r\\n</li>\\r\\n<li class=\"Menu-Leaf\"><a href=\"http://www.michaelnbach.at/gemeindeamt/html/Ortschaften-der-Gemeinde-Teil-I.pdf\" class=\"Menu-Link extlink\" title=\"Geschichte der Ortsnamen (Aichet bis Michaelnbach) (Externer Link)\">\\r\\n\\tGeschichte der Ortsnamen (Aichet bis Michaelnbach)\\r\\n</a>\\r\\n</li>\\r\\n<li class=\"Menu-Leaf\"><a href=\"http://www.michaelnbach.at/gemeindeamt/html/Ortschaften-der-Gemeinde-Teil-II.pdf\" class=\"Menu-Link extlink\" title=\"Geschichte der Ortsnamen (Minithal bis Zelli) (Externer Link)\">\\r\\n\\tGeschichte der Ortsnamen (Minithal bis Zelli)\\r\\n</a>\\r\\n</li>\\r\\n<li class=\"Menu-Leaf\"><a href=\"http://www.michaelnbach.at/gemeindeamt/html/AgrarViehstatistik.pdf\" class=\"Menu-Link extlink\" title=\"Agrar- und Viehstatistik (Externer Link)\">\\r\\n\\tAgrar- und Viehstatistik\\r\\n</a>\\r\\n</li>\\r\\n<li class=\"Menu-Leaf\"><a href=\"http://www.michaelnbach.at/gemeindeamt/html/Entstehung-der-Feuerwehr.pdf\" class=\"Menu-Link extlink\" title=\"Entstehung der Feuerwehr (Externer Link)\">\\r\\n\\tEntstehung der Feuerwehr\\r\\n</a>\\r\\n</li>\\r\\n<li class=\"Menu-Leaf\"><a href=\"http://www.michaelnbach.at/gemeindeamt/html/Urbare.pdf\" class=\"Menu-Link extlink\" title=\"Urbare (Externer Link)\">\\r\\n\\tUrbare\\r\\n</a>\\r\\n</li>\\r\\n<li class=\"Menu-Leaf\"><a href=\"http://www.michaelnbach.at/gemeindeamt/html/Vikare-Priester-Pfarrer-in-Michaelnbach.pdf\" class=\"Menu-Link extlink\" title=\"Vikare, Priester und Pfarrer in Michaelnbach (Externer Link)\">\\r\\n\\tVikare, Priester und Pfarrer in Michaelnbach\\r\\n</a>\\r\\n</li>\\r\\n</ul>\\r\\n</li>\\r\\n<li class=\"Menu-Leaf Menu-WithChildren\"><a href=\"/UNSER_MICHAELNBACH/Chronik_von_Michaelnbach/850_Jahre_Michaelnbach_Festschrift_\" class=\"Menu-Link\">\\r\\n\\t850 Jahre Michaelnbach (Festschrift)\\r\\n</a>\\r\\n<ul class=\"forceHide\">\\r\\n\\t<li class=\"Menu-Leaf\"><a href=\"http://www.michaelnbach.at/gemeindeamt/html/Chronik-1.Teil.pdf\" class=\"Menu-Link extlink\" title=\"1.Teil (Externer Link)\">\\r\\n\\t\\t1.Teil\\r\\n\\t</a>\\r\\n</li>\\r\\n<li class=\"Menu-Leaf\"><a href=\"http://www.michaelnbach.at/gemeindeamt/html/Chronik-2.Teil.pdf\" class=\"Menu-Link extlink\" title=\"2.Teil (Externer Link)\">\\r\\n\\t2.Teil\\r\\n</a>\\r\\n</li>\\r\\n<li class=\"Menu-Leaf\"><a href=\"http://www.michaelnbach.at/gemeindeamt/html/Chronik-3.Teil.pdf\" class=\"Menu-Link extlink\" title=\"3.Teil (Externer Link)\">\\r\\n\\t3.Teil\\r\\n</a>\\r\\n</li>\\r\\n<li class=\"Menu-Leaf\"><a href=\"http://www.michaelnbach.at/gemeindeamt/html/Chronik-4.Teil.pdf\" class=\"Menu-Link extlink\" title=\"4.Teil (Externer Link)\">\\r\\n\\t4.Teil\\r\\n</a>\\r\\n</li>\\r\\n</ul>\\r\\n</li>\\r\\n</ul>\\r\\n</li>\\r\\n</ul>\\r\\n</li>\\r\\n</ul>\\r\\n</div>\\r\\n</div>\\r\\n\\r\\n            </div><div id=\"columns\">\\r\\n                <div class=\"cols-wrapper\">\\r\\n                    <div id=\"ctl00_ctl00_ctl00_col_ab_container\" class=\"float-wrapper\">\\r\\n\\t\\r\\n                        <div id=\"col-b\" class=\"sidecol-b\">\\r\\n\\t\\t\\r\\n                            \\r\\n    <div class=\"TreeView\">\\r\\n\\t\\t\\t\\t<ul id=\"ctl00_ctl00_ctl00_cph_col_b_ctl01\">\\r\\n\\t\\t\\t\\t\\t<li class=\"TreeView-Root TreeView-Parent TreeView-Expanded\"><a href=\"/BUeRGERSERVICE\" title=\"Bürgerservice\">\\r\\n\\t\\t\\t\\t\\t\\tBÜRGERSERVICE\\r\\n\\t\\t\\t\\t\\t</a>\\r\\n\\t\\t\\t\\t\\t<ul>\\r\\n\\t\\t\\t\\t\\t\\t<li class=\"TreeView-Leaf\"><a href=\"/BUeRGERSERVICE/Hui-um_-_Verwaltungsgemeinschaft\" title=\"Infos zur Verwaltungsgemeinschaft\">\\r\\n\\t\\t\\t\\t\\t\\t\\t\"Hui-um\" - Verwaltungsgemeinschaft\\r\\n\\t\\t\\t\\t\\t\\t</a>\\r\\n\\t\\t\\t\\t\\t</li>\\r\\n\\t\\t\\t\\t\\t<li class=\"TreeView-Parent TreeView-Expanded\"><a href=\"/BUeRGERSERVICE/Gemeindeservice\">\\r\\n\\t\\t\\t\\t\\t\\tGemeindeservice\\r\\n\\t\\t\\t\\t\\t</a>\\r\\n\\t\\t\\t\\t\\t<ul>\\r\\n\\t\\t\\t\\t\\t\\t<li class=\"TreeView-Leaf TreeView-Expanded TreeView-Selected\"><a href=\"/BUeRGERSERVICE/Gemeindeservice/Gebuehren_Abgaben\" title=\"Gebühren\">\\r\\n\\t\\t\\t\\t\\t\\t\\tGebühren &amp; Abgaben\\r\\n\\t\\t\\t\\t\\t\\t</a>\\r\\n\\t\\t\\t\\t\\t</li>\\r\\n\\t\\t\\t\\t\\t<li class=\"TreeView-Leaf\"><a href=\"/BUeRGERSERVICE/Gemeindeservice/Formulare\">\\r\\n\\t\\t\\t\\t\\t\\tFormulare\\r\\n\\t\\t\\t\\t\\t</a>\\r\\n\\t\\t\\t\\t</li>\\r\\n\\t\\t\\t</ul>\\r\\n\\t\\t</li>\\r\\n\\t\\t<li class=\"TreeView-Leaf\"><a href=\"/BUeRGERSERVICE/Amtssignatur\">\\r\\n\\t\\t\\tAmtssignatur\\r\\n\\t\\t</a>\\r\\n\\t</li>\\r\\n\\t<li class=\"TreeView-Parent\"><a href=\"/BUeRGERSERVICE/Servicemitarbeiter\">\\r\\n\\t\\tServicemitarbeiter\\r\\n\\t</a>\\r\\n</li>\\r\\n<li class=\"TreeView-Leaf\"><a href=\"/BUeRGERSERVICE/Bauamt\">\\r\\n\\tBauamt\\r\\n</a>\\r\\n</li>\\r\\n<li class=\"TreeView-Leaf\"><a href=\"/BUeRGERSERVICE/Budget\">\\r\\n\\tBudget\\r\\n</a>\\r\\n</li>\\r\\n<li class=\"TreeView-Parent\"><a href=\"/BUeRGERSERVICE/Bildungseinrichtungen\" title=\"Bildungseinrichtungen/Kinderbetreuung\">\\r\\n\\tBildungseinrichtungen\\r\\n</a>\\r\\n</li>\\r\\n<li class=\"TreeView-Leaf\"><a href=\"/BUeRGERSERVICE/Sozialeinrichtungen\">\\r\\n\\tSozialeinrichtungen\\r\\n</a>\\r\\n</li>\\r\\n<li class=\"TreeView-Parent\"><a href=\"/BUeRGERSERVICE/Entsorgung/Abfallservice\" title=\"Entsorgung/Abfallservice\">\\r\\n\\tEntsorgung/Abfallservice\\r\\n</a>\\r\\n</li>\\r\\n<li class=\"TreeView-Leaf\"><a href=\"/BUeRGERSERVICE/Gemeinde-Zeitung\">\\r\\n\\tGemeinde-Zeitung\\r\\n</a>\\r\\n</li>\\r\\n<li class=\"TreeView-Leaf\"><a href=\"/BUeRGERSERVICE/Aemter_und_Behoerden\">\\r\\n\\tÄmter und Behörden\\r\\n</a>\\r\\n</li>\\r\\n</ul>\\r\\n</li>\\r\\n</ul>\\r\\n\\r\\n</div>\\r\\n\\r\\n                        \\r\\n</div><div id=\"col-a\">\\r\\n\\t\\r\\n                            <div class=\"main-content\">\\r\\n                                \\r\\n\\r\\n    \\r\\n    \\r\\n\\r\\n    <div id=\"content\"></div>\\r\\n    <form method=\"post\" action=\"/system/web/gebuehr.aspx?menuonr=220529846&amp;sprache=1\" id=\"aspnetForm\">\\r\\n\\t<div class=\"aspNetHidden\">\\r\\n\\t<input type=\"hidden\" name=\"__VIEWSTATE\" id=\"__VIEWSTATE\" value=\"/wEPDwUKMTU3MzI0OTY5OGQYAQUeX19Db250cm9sc1JlcXVpcmVQb3N0QmFja0tleV9fFgIFI2N0bDAwJGN0bDAwJGN0bDAwJGNwaF9oZWFkZXIyJGN0bDAxBSFjdGwwMCRjdGwwMCRjdGwwMCRjcGhfY29sX2IkY3RsMDF+UfG0S8P2zuJDOYi0KmOtWDOnsg==\" />\\r\\n\\t</div>\\r\\n\\r\\n\\t<script type=\"text/javascript\">initMenu(1, 220529846, [], \\'Startseite\\', \\'Suchbegriffe\\', \\'Suche starten\\')</script>\\r\\n        \\r\\n        <p class=\"cookieErrorBox width100\"><span class=\"cookieErrorBoxIcon fa fa-info-circle\"></span><span class=\"cookieErrorTxt\">Aufgrund Ihrer aktuellen Cookie Einstellungen kann der Inhalt nicht angezeigt werden. Klicken sie <a href=\"#\" onclick=\"initCookieOptIn()\" >hier</a> um Ihre Einstellungen anzupassen.</span></p>\\r\\n        \\r\\n    \\r\\n\\t<div class=\"aspNetHidden\">\\r\\n\\r\\n\\t\\t<input type=\"hidden\" name=\"__VIEWSTATEGENERATOR\" id=\"__VIEWSTATEGENERATOR\" value=\"D3398666\" />\\r\\n\\t</div>\\r\\n\\t            \\r\\n                            <script type=\"text/javascript\">\\r\\n                                    var lbsettings = {\"txtImage\":\"Bild\",\"txtOf\":\"von\",\"sprachid\":\"1\",\"imgCopyright\":\"Copyright\",\"imgAltText\":\"Alternativtext\",\"imgQuelle\":\"Quelle\",\"imgLongDesc\":\"Fotobeschreibung\",\"bildInformation\":\"Bildinformation\"};\\r\\n                                     $(document).ready(function () {\\r\\n                                                    $(function () {\\r\\n                                                        $(\\'a[data-lbgroup]\\').lightBox(lbsettings);\\r\\n                                                     $(\\'a[id*=\"startup\"]\\').click();\\r\\n                                                    });\\r\\n                                            });\\r\\n                                            $(function () {\\r\\n                                                if(!jQuery.isFunction($(\\'a[data-lbgroup]\\').lightBox)){\\r\\n                                                    loadlightbox();\\r\\n                                                }\\r\\n                                                $(\\'a[rel*=\"lightbox\"]\\').lightBox(lbsettings);\\r\\n                                 \\r\\n                                            });\\r\\n                            </script></form>\\r\\n\\r\\n    \\r\\n        <div class=\"clear\"></div>\\r\\n        \\r\\n    <div id=\"main-content-footer\"><div class=\"social\"><div class=\"float_left social_share_privacy_area\"><a  href=\"/system/web/mailer.aspx?u=aHR0cDovL3d3dy5taWNoYWVsbmJhY2guYXQvc3lzdGVtL3dlYi9nZWJ1ZWhyLmFzcHg/bWVudW9ucj0yMjA1Mjk4NDYmc3ByYWNoZT0x&amp;p=VHJ1ZQ==&amp;sprache=1&amp;menuonr=220529846\" title=\"Weiterleiten mit E-Mail\" class=\"sm-tile\"><span class=\"faicon inlinetext_icon_start far fa-envelope\" title=\"Weiterleiten mit E-Mail\"></span></a><script type=\\'text/javascript\\'>\\r\\n<!-- // /* <![CDATA[ */\\r\\nprintParagraph = document.createElement(\\'p\\');\\r\\nprintParagraph.innerHTML = \"<a href=\\'#\\' onclick=\\'window.print(); return true;\\' onkeypress=\\'return true;\\' title=\\'Drucken\\'><span class=\\'sm-tile\\'><span class=\\'fa fa-print\\'></span><span class=\\'sr-only\\'>Drucken</span></span></a>\";\\r\\ndocument.currentScript.parentElement.insertBefore(printParagraph, document.currentScript);\\r\\ndocument.currentScript.parentElement.insertBefore(document.currentScript.previousElementSibling.childNodes[0], document.currentScript);\\r\\ndocument.currentScript.previousElementSibling.previousElementSibling.remove();\\r\\n/* ]]> */ //-->\\r\\n</script>\\r\\n</div><div class=\"float_left\">  <script type=\"text/javascript\">\\r\\n        $(document).ready(function (jQ) {\\r\\n            if (jQ(\\'#socialshareprivacy\\').length > 0) {\\r\\nif(!jQ.isFunction(jQ(\\'#socialshareprivacy\\').socialSharePrivacy)){\\r\\n    loadSocialSharePrivacy(jQ);\\r\\n}\\r\\n                jQ(\\'#socialshareprivacy\\').socialSharePrivacy({\\r\\n                    services: {\\r\\n                        facebook: {\\r\\n                            \\'status\\' : \\'on\\',\\r\\n                            \\'dummy_img\\': \\'/system/web/css/images/dummy_facebook.png\\',\\r\\n                            \\'txt_info\\'   : \\'2 Klicks für mehr Datenschutz: Erst wenn Sie hier klicken, wird der Button aktiv und Sie können Ihre Empfehlung an Facebook senden. Schon beim Aktivieren werden Daten an Dritte übertragen - siehe \\\\u003cem\\\\u003ei\\\\u003c/em\\\\u003e.\\',\\r\\n                            \\'txt_fb_off\\' : \\'nicht mit Facebook verbunden\\',\\r\\n                            \\'txt_fb_on\\'  : \\'mit Facebook verbunden\\'\\r\\n\\r\\n                        },\\r\\n                        twitter: {\\r\\n                            \\'status\\' : \\'on\\',\\r\\n                            \\'dummy_img\\': \\'/system/web/css/images/dummy_twitter.png\\',\\r\\n                            \\'txt_info\\'        : \\'2 Klicks für mehr Datenschutz: Erst wenn Sie hier klicken, wird der Button aktiv und Sie können Ihre Empfehlung an Twitter senden. Schon beim Aktivieren werden Daten an Dritte übertragen - siehe \\\\u003cem\\\\u003ei\\\\u003c/em\\\\u003e.\\',\\r\\n                            \\'txt_twitter_off\\' : \\'nicht mit Twitter verbunden\\',\\r\\n                            \\'txt_twitter_on\\'  : \\'mit Twitter verbunden\\'\\r\\n                        }\\r\\n                    },\\r\\n                \\'txt_help\\'          : \\'Wenn Sie diese Felder durch einen Klick aktivieren, werden Informationen an Facebook, Twitter oder Google in die USA übertragen und unter Umständen auch dort gespeichert. Näheres erfahren Sie durch einen Klick auf das \\\\u003cem\\\\u003ei\\\\u003c/em\\\\u003e.\\',\\r\\n                \\'settings_perma\\'    : \\'Dauerhaft aktivieren und Datenübertragung zustimmen:\\',\\r\\n                \\'css_path\\'          : \\'/system/web/css/socialshareprivacy.css\\'\\r\\n                });\\r\\n            }\\r\\n        });\\r\\n    </script><div id=\"socialshareprivacy\"></div></div></div></div>\\r\\n\\r\\n                            </div>\\r\\n                        \\r\\n</div>\\r\\n                        \\r\\n                    \\r\\n</div>\\r\\n                    <div id=\"col-c\" class=\"sidecol-c\">\\r\\n                        \\r\\n    \\r\\n\\r\\n                    </div>\\r\\n                    <div class=\"clear\" id=\"em\"></div>\\r\\n                </div>\\r\\n\\r\\n            </div><div id=\"footer\" class=\"clear\">\\r\\n                \\r\\n    <div class=\"width30  float_left footerbox kontakt mobility2\"><h2>\\r\\n\\tKontakt\\r\\n</h2>Gemeinde Michaelnbach<br />\\r\\nGrieskirchner Straße 4<br />\\r\\nA-4712 Michaelnbach<br />\\r\\n<br />\\r\\nTel: (07277) 25 55<br />\\r\\nFax: (07277) 25 55-119<br />\\r\\nMail: <a href=\"mailto:gemeinde@michaelnbach.ooe.gv.at?subject=Anfrage%20an%20das%20Gemeindeamt\" title=\"Anfrage an das Gemeindeamt\">gemeinde@michaelnbach.ooe.gv.at</a></div><div class=\"width30  float_left footerbox amtszeiten\"><h2>\\r\\n\\tAmtszeiten\\r\\n</h2><p>Montag, Dienstag und Donnerstag:</p><p>&nbsp; &nbsp; &nbsp; &nbsp; &nbsp; &nbsp; &nbsp; &nbsp; &nbsp; &nbsp; &nbsp; &nbsp; &nbsp; &nbsp; &nbsp; &nbsp; &nbsp; &nbsp; &nbsp; &nbsp; &nbsp; 07:00 - 12:00 Uhr<br>&nbsp; &nbsp; &nbsp; &nbsp; &nbsp; &nbsp; &nbsp; &nbsp; &nbsp; &nbsp; &nbsp; &nbsp; &nbsp; &nbsp; &nbsp; &nbsp; &nbsp; &nbsp; &nbsp; &nbsp; &nbsp; 13:00 - 17:30 Uhr</p><p>Mittwoch und Freitag: &nbsp; 07:00 - 12:15 Uhr</p><p>Parteienverkehr ist täglich von 07.30 - 12.00 Uhr</p></div><div class=\"width20  float_left footerbox darstellung\"><h2>\\r\\n\\tDarstellung\\r\\n</h2><ul class=\"item_liste\">\\r\\n\\t<li><a  href=\"/system/web/gebuehr.aspx?design=cssgraphicmode&amp;menuonr=220529846\">Grafische Version</a></li><li><a  href=\"/system/web/gebuehr.aspx?design=csshighcontrast&amp;menuonr=220529846\" rel=\"nofollow\">Hoher Kontrast</a></li><li><a  href=\"/system/web/gebuehr.aspx?design=cssnostyle&amp;menuonr=220529846\" rel=\"nofollow\">Nur Text</a></li>\\r\\n</ul></div><div class=\"width15  float_left footerbox gem2go\"><h2>\\r\\n\\tGem2Go\\r\\n</h2><img src=\"/system/web/GetImage.ashx?fileid=1199191&amp;mode=T&amp;width=204&amp;height=231&amp;ratio=true&amp;fit=false&amp;shadow=false&amp;cts=1468335941\" alt=\"gem2go_15\" /></div><div class=\"float_left\"><div class=\"backToTop\">\\r\\n  <a href=\"#top\" style=\"text-indent:-9999em;\" title=\"zurück nach oben\" class=\"blackAnchor\">zum Seitenanfang</a>\\r\\n</div></div><script>\\r\\n  document.addEventListener(\"DOMContentLoaded\", function() {\\r\\n    var urlParams = new URLSearchParams(window.location.search);\\r\\n    var loadNewsadoo = urlParams.get(\"newsadoo\");\\r\\n    var newsadoo_url = \"https://newsadoo.com/embed/topic/110279247/Michaelnbach?horizontalScroll=true&transparency=true&isTopicHeaderVisible=false\";\\r\\n    var newsadoo_title = \"Newsadoo Integration Michaelnbach\";\\r\\n    var newsadoo_height = 400;\\r\\n\\r\\n    if (loadNewsadoo) {\\r\\n      var newsadooElements = document.querySelectorAll(\".newsadoo\");\\r\\n      for (var i = 0; i < newsadooElements.length; i++) {\\r\\n        var newsadooElement = newsadooElements[i];\\r\\n        var iframe = document.createElement(\"iframe\");\\r\\n        iframe.src = newsadoo_url;\\r\\n        iframe.title = newsadoo_title;\\r\\n        iframe.allow = \"clipboard-write\";\\r\\n        iframe.width = \"100%\";\\r\\n        iframe.height = newsadoo_height;\\r\\n        iframe.setAttribute(\"frameborder\", 0);\\r\\n\\r\\n        newsadooElement.querySelector(\".newsadoo-iframe\").appendChild(iframe);\\r\\n      }\\r\\n    } else {\\r\\n      var newsadooElements = document.querySelectorAll(\".newsadoo\");\\r\\n      for (var i = 0; i < newsadooElements.length; i++) {\\r\\n        var newsadooElement = newsadooElements[i];\\r\\n        newsadooElement.parentNode.removeChild(newsadooElement);\\r\\n      }\\r\\n    }\\r\\n  });\\r\\n</script><script type=\"text/javascript\">\\r\\nwindow.piwikAsyncInit = function () {{\\r\\ntry {{\\r\\nvar piwikMainTracker = Piwik.getTracker(\"https://statistics.gem2go.page/piwik.php\", 823);\\r\\n piwikMainTracker.disableCookies();\\r\\n piwikMainTracker.enableLinkTracking(true); \\r\\npiwikMainTracker.trackPageView(); \\r\\n  \\r\\n $(document).ready(function() \\r\\n{\\r\\n$(\"a[href^=\\'tel:\\']\").click(function() { piwikMainTracker.trackEvent(\\'Linkklick\\', \\'Telefonnummer anrufen (tel:)\\'); });\\r\\n$(\".piwik_download_tracker\").click(function()\\r\\n{\\r\\nvar currentLoc = window.location.origin;\\r\\nvar datatyp = $(this).attr(\"data-trackingtyp\")\\r\\nvar bez = $(this).attr(\"data-bez\");\\r\\nif(bez == undefined)\\r\\nbez = $(this).attr(\"title\");\\r\\nif(bez == undefined)\\r\\nbez = $(this).text();\\r\\npiwikMainTracker.trackLink(currentLoc + \" /\" + datatyp + \"/ \" + bez, \\'download\\');\\r\\n});\\r\\n});\\r\\n }} catch( err ) {{}} \\r\\n}};\\r\\n</script>\\r\\n    \\r\\n\\r\\n            </div>\\r\\n    \\r\\n\\r\\n    \\r\\n\\r\\n    </div>\\r\\n    \\r\\n    <script src=\"//statistics.gem2go.page/js/\" type=\"text/javascript\" async=\"async\"></script>\\r\\n<script src=\"https://cdnfile.gem2go.page/cdnstatic/system/Javascriptz/ris/iFrameMessageAPI.js\" type=\"text/javascript\" async=\"async\"></script>\\r\\n<script src=\"https://cdnfile.gem2go.page/cdnstatic/system/Javascriptz/ris/trackNewspoolView.js?20210531T2006\" type=\"text/javascript\"></script>\\r\\n<script src=\"/system/statV.1/JavaScript/mobileAppDetector.js\" type=\"text/javascript\" async=\"async\"></script>\\r\\n<script type=\"text/javascript\">function mobileAppDetection()\\r\\n{if(document.readyState==\\'complete\\')mobileAppDetector({\"mobileApps\":[{\"name\":\"Gem2Go\",\"variants\":[{\"agent\":\"Android\",\"install\":\"market://details?id=WA66F5VEHP.com.ris.Gem2Go\",\"start\":null,\"landscape\":null},{\"agent\":\"iPhone\",\"install\":\"http://appstore.com/Gem2Go\",\"start\":null,\"landscape\":null},{\"agent\":\"iPad\",\"install\":\"http://appstore.com/Gem2Go\",\"start\":null,\"landscape\":null},{\"agent\":\"Windows Phone\",\"install\":\"http://www.microsoft.com/de-at/store/apps/gem2go/9wzdncrdr4x5\",\"start\":null,\"landscape\":null}],\"addClass\":null,\"color\":\"#ffffff\",\"backgroundimage\":\"statV.0/web/images/loginimages/mobileAppDetector-bg.jpg\",\"image\":\"https://www.michaelnbach.at/system/statV.0/web/images/loginimages/mobileAppDetector-512.png\",\"imagealt\":\"App Icon\",\"header\":\"GEM2GO APP\",\"note\":\"Nutzen Sie unsere Gemeinde-App!\",\"prompt\":\"in GEM2GO APP öffnen\",\"landscape\":false,\"install\":null,\"urlSchema\":\"gem2go\",\"start\":null,\"otherwise\":null,\"cookietime\":30,\"hinweistextHidePopup\":\"Diese Meldung die nächsten 30 Tage nicht mehr anzeigen\",\"closetext\":\"Installationsaufforderung der GEM2GO APP schließen\",\"text\":\"In der GEM2GO APP öffnen\",\"gnr\":1047,\"Id\":\"mobileapp-gem2go\",\"deeplink\":null}]});}\\r\\nif(document.addEventListener)document.addEventListener(\\'readystatechange\\',mobileAppDetection);\\r\\nelse if(document.attachEvent)document.attachEvent(\\'onreadystatechange\\',mobileAppDetection);\\r\\n</script>\\r\\n<script src=\"/system/statV.1/Javascript/cookie.js\" type=\"text/javascript\"></script>\\r\\n<script type=\"text/javascript\">$(document).ready(function(){ initCookieOptInIfCookieNotExists();});</script>\\r\\n\\r\\n\\r\\n</body>\\r\\n</html>'"
      ]
     },
     "execution_count": 63,
     "metadata": {},
     "output_type": "execute_result"
    }
   ],
   "source": [
    "\n",
    "\n",
    "website_url = 'https://www.michaelnbach.at/BUeRGERSERVICE/Gemeindeservice/Gebuehren_Abgaben'\n",
    "response = requests.get(website_url)\n",
    "javascript_code = response.text\n",
    "javascript_code"
   ]
  },
  {
   "cell_type": "markdown",
   "metadata": {},
   "source": [
    "## Count the number of attachments\n"
   ]
  },
  {
   "cell_type": "code",
   "execution_count": 46,
   "metadata": {},
   "outputs": [
    {
     "name": "stdout",
     "output_type": "stream",
     "text": [
      "Number of attachments: 19\n"
     ]
    }
   ],
   "source": [
    "import requests\n",
    "from bs4 import BeautifulSoup\n",
    "import re\n",
    "\n",
    "def count_attachments(url):\n",
    "    try:\n",
    "        response = requests.get(url)\n",
    "        soup = BeautifulSoup(response.content, 'html.parser')\n",
    "\n",
    "        # Find all anchor tags\n",
    "        anchor_tags = soup.find_all('a')\n",
    "\n",
    "        # Filter anchor tags with attachment file extensions\n",
    "        attachment_tags = [tag for tag in anchor_tags if tag.get('href') and re.search(r'\\.pdf$|\\.doc$|\\.docx$', tag.get('href'))]\n",
    "\n",
    "        return len(attachment_tags)\n",
    "    \n",
    "    except requests.RequestException as e:\n",
    "        print(f\"Error accessing {url}: {str(e)}\")\n",
    "\n",
    "# Example usage\n",
    "webpage_url = 'https://www.gemeinde-ramsau.de/' #works \n",
    "# webpage_url = 'https://www.michaelnbach.at/BUeRGERSERVICE/Gemeindeservice/Formulare' #works \n",
    "# webpage_url = 'https://www.wolfern.at/Buergerservice/Formulare' #does not work\n",
    "attachment_count = count_attachments(webpage_url)\n",
    "print(f\"Number of attachments: {attachment_count}\")\n"
   ]
  },
  {
   "cell_type": "code",
   "execution_count": 70,
   "metadata": {},
   "outputs": [
    {
     "name": "stdout",
     "output_type": "stream",
     "text": [
      "Online Services:\n",
      "Einfache Melderegisterauskunft - https://melderegister.komuna.net/ramsau/auskunft/start\n",
      "Antrag Einfache Meldebescheinigung - https://serviceportal.komuna.net/ramsau/rsp/meldebescheinigung/start\n",
      "Antrag Erweiterte Meldebescheinigung - https://serviceportal.komuna.net/ramsau/rsp/aufenthaltsbescheinigung/start\n",
      "Passauskunft - https://serviceportal.komuna.net/ramsau/papass/start\n",
      "Reisedokumente für Kinder - https://serviceportal.komuna.net/ramsau/rsp/kinderreisepass/start\n",
      "Verlusterklärung Pass / Personalausweis - https://serviceportal.komuna.net/ramsau/rsp/verlustdokument/start\n",
      "Umzug - https://serviceportal.komuna.net/ramsau/umzug/start\n",
      "Zuzug - https://serviceportal.komuna.net/ramsau/zuzug/start\n",
      "Anmeldung Nebenwohnung - https://serviceportal.komuna.net/ramsau/rsp/anmeldungnew/start\n",
      "Abmeldung Nebenwohnung - https://serviceportal.komuna.net/ramsau/rsp/abmeldungnew/start\n",
      "Statuswechsel Wohnung - https://serviceportal.komuna.net/ramsau/rsp/statuswechsel/start\n",
      "Anmeldung Hundesteuer - https://formular.komuna.net/intelliform/forms/ramsau/verwaltung/pool/hundesteuer-anmeldung/index\n",
      "Abmeldung Hundesteuer - https://formular.komuna.net/intelliform/forms/ramsau/verwaltung/pool/hundesteuer-abmeldung/index\n",
      "Antrag SEPA-Lastschriftmandat - https://formular.komuna.net/intelliform/forms/ramsau/verwaltung/pool/sepa/index\n",
      "Fundsachen suchen - https://fundinfo.novafind.eu/home/fundinfo/f09172129/app/?cultureName=de\n",
      "Antrag Führungszeugnis - https://serviceportal.komuna.net/ramsau/rsp/fuehrungszeugnis/start\n",
      "Antrag Gewerbezentralregister - https://serviceportal.komuna.net/ramsau/rsp/gewerbeauskunft/start\n",
      "Wahlschein beantragen - https://serviceportal.komuna.net/9172129/wahlschein/start\n",
      "Bewerbung als Wahlhelfer - https://serviceportal.komuna.net/ramsau/rsp/wahlhelfer/start\n",
      "Antrag Auskunftssperre - https://serviceportal.komuna.net/ramsau/rsp/auskunftssperre/start\n",
      "Antrag Übermittlungssperre - https://serviceportal.komuna.net/ramsau/rsp/uebermittlungssperre/start\n",
      "Zählerstand übermitteln - https://wzko.komuna.net/Citizen/272\n",
      "Number of online services: 22\n"
     ]
    }
   ],
   "source": [
    "import requests\n",
    "from bs4 import BeautifulSoup\n",
    "\n",
    "# Send a GET request to the website\n",
    "response = requests.get(\"https://www.gemeinde-ramsau.de/onlinedienste.html\")\n",
    "# response = requests.get('https://www.michaelnbach.at/BUeRGERSERVICE/Gemeindeservice/Formulare')\n",
    "\n",
    "# Parse the HTML content using BeautifulSoup\n",
    "soup = BeautifulSoup(response.content, \"html.parser\")\n",
    "\n",
    "# Find all the service elements within <a> tags\n",
    "service_elements = soup.find_all(\"a\", onclick=\"popup(this); return false;\")\n",
    "\n",
    "# Extract the text content and href attribute of each service element\n",
    "online_services = []\n",
    "for service in service_elements:\n",
    "    service_name = service.get_text(strip=True)\n",
    "    service_link = service[\"href\"]\n",
    "    online_services.append((service_name, service_link))\n",
    "\n",
    "# Count the number of online services\n",
    "service_count = len(online_services)\n",
    "\n",
    "# Print the online services, along with their links and the count\n",
    "print(\"Online Services:\")\n",
    "for service_name, service_link in online_services:\n",
    "    print(service_name + \" - \" + service_link)\n",
    "print(\"Number of online services:\", service_count)\n"
   ]
  },
  {
   "cell_type": "markdown",
   "metadata": {},
   "source": [
    "## Formulare"
   ]
  },
  {
   "cell_type": "markdown",
   "metadata": {},
   "source": [
    "### Formulare search in the link leading to attachments"
   ]
  },
  {
   "cell_type": "code",
   "execution_count": 67,
   "metadata": {},
   "outputs": [
    {
     "name": "stdout",
     "output_type": "stream",
     "text": [
      "Valid Links Count: 13\n",
      "Invalid Links Count: 2\n"
     ]
    }
   ],
   "source": [
    "import requests\n",
    "from bs4 import BeautifulSoup\n",
    "\n",
    "url = \"https://www.michaelnbach.at/BUeRGERSERVICE/Gemeindeservice/Formulare\"\n",
    "# url = \"https://www.wolfern.at/Buergerservice/Formulare\"\n",
    "response = requests.get(url)\n",
    "soup = BeautifulSoup(response.text, \"html.parser\")\n",
    "\n",
    "# Find all <a> tags with href attribute\n",
    "links = soup.find_all(\"a\")\n",
    "\n",
    "valid_links = []\n",
    "invalid_links = []\n",
    "\n",
    "for link in links:\n",
    "    href = link.get(\"href\")\n",
    "    if href:\n",
    "        href = href.strip()  # Remove leading and trailing white spaces\n",
    "        if href.startswith(\"http://\") or href.startswith(\"https://\") or \"Formulare\" in href:\n",
    "            try:\n",
    "                link_response = requests.get(href)\n",
    "                if link_response.status_code == 200:\n",
    "                    valid_links.append(href)\n",
    "                else:\n",
    "                    invalid_links.append(href)\n",
    "            except requests.exceptions.RequestException:\n",
    "                invalid_links.append(href)\n",
    "\n",
    "print(\"Valid Links Count:\", len(set(valid_links)))\n",
    "print(\"Invalid Links Count:\", len(invalid_links))\n"
   ]
  },
  {
   "cell_type": "code",
   "execution_count": 69,
   "metadata": {},
   "outputs": [
    {
     "data": {
      "text/plain": [
       "['/BUeRGERSERVICE/Gemeindeservice/Formulare',\n",
       " '/BUeRGERSERVICE/Gemeindeservice/Formulare']"
      ]
     },
     "execution_count": 69,
     "metadata": {},
     "output_type": "execute_result"
    }
   ],
   "source": [
    "invalid_links"
   ]
  },
  {
   "cell_type": "markdown",
   "metadata": {},
   "source": [
    "### Formulare --> Link --> Button for submit"
   ]
  },
  {
   "cell_type": "code",
   "execution_count": 89,
   "metadata": {},
   "outputs": [
    {
     "name": "stdout",
     "output_type": "stream",
     "text": [
      "Matched Links:\n",
      "https://www.kropp.de/Kurzmenü/Kontakt/\n"
     ]
    }
   ],
   "source": [
    "import requests\n",
    "from bs4 import BeautifulSoup\n",
    "from urllib.parse import urljoin, unquote\n",
    "\n",
    "def extract_links_with_keywords(url, keywords):\n",
    "    response = requests.get(url)\n",
    "    soup = BeautifulSoup(response.text, \"html.parser\")\n",
    "\n",
    "    # Find all <a> tags with href attribute\n",
    "    links = soup.find_all(\"a\")\n",
    "\n",
    "    matched_links = []\n",
    "\n",
    "    for link in links:\n",
    "        href = link.get(\"href\")\n",
    "        if href:\n",
    "            href = href.strip()\n",
    "            decoded_href = unquote(href)  # Decode URL\n",
    "\n",
    "            if any(keyword.lower() in decoded_href.lower() for keyword in keywords):\n",
    "                # Check if the link starts with \"http://\" or \"https://\"\n",
    "                if not decoded_href.startswith((\"http://\", \"https://\")):\n",
    "                    # Append the link to the base URL of the webpage\n",
    "                    decoded_href = urljoin(url, decoded_href)\n",
    "\n",
    "                matched_links.append(decoded_href)\n",
    "\n",
    "    return matched_links\n",
    "\n",
    "# Example usage\n",
    "webpage_url = \"https://www.kropp.de/\"\n",
    "# webpage_url = \"http://www.pluzine.me/\"\n",
    "\n",
    "keywords = [\"Kontakt\", \"contact\", \"contact us\"]\n",
    "\n",
    "matched_links = extract_links_with_keywords(webpage_url, keywords)\n",
    "\n",
    "print(\"Matched Links:\")\n",
    "for link in matched_links:\n",
    "    print(link)\n"
   ]
  },
  {
   "cell_type": "code",
   "execution_count": 85,
   "metadata": {},
   "outputs": [
    {
     "name": "stdout",
     "output_type": "stream",
     "text": [
      "The link 'https://www.kropp.de/Kurzmenü/Kontakt/' contains a contact form.\n"
     ]
    }
   ],
   "source": [
    "import requests\n",
    "from bs4 import BeautifulSoup\n",
    "\n",
    "def has_contact_form(link):\n",
    "    response = requests.get(link)\n",
    "    soup = BeautifulSoup(response.text, \"html.parser\")\n",
    "\n",
    "    forms = soup.find_all(\"form\")\n",
    "\n",
    "    for form in forms:\n",
    "        submit_button = form.find(\"input\", type=\"submit\")\n",
    "        if not submit_button:\n",
    "            submit_button = form.find(\"button\", type=\"submit\")\n",
    "\n",
    "        if submit_button:\n",
    "            return True\n",
    "\n",
    "    return False\n",
    "\n",
    "# Example usage\n",
    "link = \"https://www.kropp.de/Kurzmenü/Kontakt/\"\n",
    "\n",
    "if has_contact_form(link):\n",
    "    print(f\"The link '{link}' contains a contact form.\")\n",
    "else:\n",
    "    print(f\"The link '{link}' does not contain a contact form.\")\n"
   ]
  },
  {
   "cell_type": "code",
   "execution_count": null,
   "metadata": {},
   "outputs": [],
   "source": []
  },
  {
   "cell_type": "code",
   "execution_count": 87,
   "metadata": {},
   "outputs": [
    {
     "name": "stdout",
     "output_type": "stream",
     "text": [
      "Matched Links for https://www.kropp.de/:\n",
      "https://www.kropp.de/Kurzmenü/Kontakt/\n",
      "\n",
      "Matched Links for https://beaufort.lu/:\n",
      "https://beaufort.lu/contact/\n",
      "https://beaufort.lu/contact/contactez-nous/\n",
      "https://beaufort.lu/contact/annuaire/\n",
      "https://beaufort.lu/contact/contactez-nous/\n",
      "\n",
      "Matched Links for http://www.pluzine.me/:\n",
      "\n",
      "Matched Links for https://www.jonava.lt/:\n",
      "\n",
      "Matched Links for http://www.islalocalcouncil.com/:\n",
      "\n"
     ]
    }
   ],
   "source": [
    "import requests\n",
    "from bs4 import BeautifulSoup\n",
    "from urllib.parse import urljoin, unquote\n",
    "\n",
    "def extract_links_with_keywords(url, keywords):\n",
    "    response = requests.get(url)\n",
    "    soup = BeautifulSoup(response.text, \"html.parser\")\n",
    "\n",
    "    # Find all <a> tags with href attribute\n",
    "    links = soup.find_all(\"a\")\n",
    "\n",
    "    matched_links = []\n",
    "\n",
    "    for link in links:\n",
    "        href = link.get(\"href\")\n",
    "        if href:\n",
    "            href = href.strip()\n",
    "            decoded_href = unquote(href)  # Decode URL\n",
    "\n",
    "            if any(keyword.lower() in decoded_href.lower() for keyword in keywords):\n",
    "                # Check if the link starts with \"http://\" or \"https://\"\n",
    "                if not decoded_href.startswith((\"http://\", \"https://\")):\n",
    "                    # Append the link to the base URL of the webpage\n",
    "                    decoded_href = urljoin(url, decoded_href)\n",
    "\n",
    "                matched_links.append(decoded_href)\n",
    "\n",
    "    return matched_links\n",
    "\n",
    "# Example usage\n",
    "websites = [\n",
    "    \"https://www.kropp.de/\",\n",
    "    \"https://beaufort.lu/\",\n",
    "    \"http://www.pluzine.me/\",\n",
    "    \"https://www.jonava.lt/\",\n",
    "    \"http://www.islalocalcouncil.com/\"\n",
    "    # \"http://qrendilocalcouncil.org.mt/\",\n",
    "    # \"http://pembroke.gov.mt/\",\n",
    "    # \"https://hamrunspartansfc.com/\",\n",
    "    # \"https://www.maltairport.com/\"\n",
    "]\n",
    "\n",
    "keywords = [\"Kontakt\", \"contact\", \"contact us\", \"question\", \"contactus\"]\n",
    "\n",
    "for webpage_url in websites:\n",
    "    matched_links = extract_links_with_keywords(webpage_url, keywords)\n",
    "\n",
    "    print(f\"Matched Links for {webpage_url}:\")\n",
    "    for link in matched_links:\n",
    "        print(link)\n",
    "    print()\n"
   ]
  },
  {
   "cell_type": "code",
   "execution_count": 93,
   "metadata": {},
   "outputs": [
    {
     "name": "stdout",
     "output_type": "stream",
     "text": [
      "The link 'https://www.kropp.de/Kurzmenü/Kontakt/' contains a contact form.\n",
      "The link 'https://beaufort.lu/contact/contactez-nous/' contains a contact form.\n",
      "The link 'http://qrendilocalcouncil.org.mt/contactus' contains a contact form.\n"
     ]
    }
   ],
   "source": [
    "import requests\n",
    "from bs4 import BeautifulSoup\n",
    "\n",
    "def has_contact_form(link):\n",
    "    response = requests.get(link)\n",
    "    soup = BeautifulSoup(response.text, \"html.parser\")\n",
    "\n",
    "    forms = soup.find_all(\"form\")\n",
    "\n",
    "    for form in forms:\n",
    "        submit_button = form.find(\"input\", type=\"submit\")\n",
    "        if not submit_button:\n",
    "            submit_button = form.find(\"button\", type=\"submit\")\n",
    "\n",
    "        if submit_button:\n",
    "            return True\n",
    "\n",
    "    return False\n",
    "\n",
    "# Example usage\n",
    "links = [\n",
    "    \"https://www.kropp.de/Kurzmenü/Kontakt/\",\n",
    "    \"https://beaufort.lu/contact/contactez-nous/\",\n",
    "    \"http://qrendilocalcouncil.org.mt/contactus\"\n",
    "]\n",
    "\n",
    "for link in links:\n",
    "    if has_contact_form(link):\n",
    "        print(f\"The link '{link}' contains a contact form.\")\n",
    "    else:\n",
    "        print(f\"The link '{link}' does not contain a contact form.\")\n"
   ]
  },
  {
   "cell_type": "code",
   "execution_count": null,
   "metadata": {},
   "outputs": [],
   "source": []
  }
 ],
 "metadata": {
  "kernelspec": {
   "display_name": "Python 3.11.3 ('ATAI')",
   "language": "python",
   "name": "python3"
  },
  "language_info": {
   "codemirror_mode": {
    "name": "ipython",
    "version": 3
   },
   "file_extension": ".py",
   "mimetype": "text/x-python",
   "name": "python",
   "nbconvert_exporter": "python",
   "pygments_lexer": "ipython3",
   "version": "3.11.3"
  },
  "vscode": {
   "interpreter": {
    "hash": "8a5bd05f7305901977d1548a9a057ab7833b238d223787166fbe3e2dc5aa56c0"
   }
  }
 },
 "nbformat": 4,
 "nbformat_minor": 2
}
