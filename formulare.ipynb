{
 "cells": [
  {
   "cell_type": "markdown",
   "metadata": {},
   "source": [
    "## Contact Us form / Formulare"
   ]
  },
  {
   "cell_type": "markdown",
   "metadata": {},
   "source": [
    "### Approach:\n",
    "1.  Search for certain keywords related to the contact us formulare. \n",
    "2. Check all links one by one which includes these keywords\n",
    "3. Now for each link which contains this keyword, check if there is a send/submit button present\n",
    "\n",
    "### Improvements:\n",
    "1. Use word similarity from BERT with a threshold\n",
    "2. Translate all the split words from href before the comparison\n",
    "    "
   ]
  },
  {
   "cell_type": "markdown",
   "metadata": {},
   "source": []
  },
  {
   "cell_type": "code",
   "execution_count": 1,
   "metadata": {},
   "outputs": [],
   "source": [
    "# Example usage\n",
    "websites = [\n",
    "    \"https://www.kropp.de/\",\n",
    "    \"https://beaufort.lu/\",\n",
    "    \"http://www.pluzine.me/\",\n",
    "    \"https://www.jonava.lt/\",\n",
    "    \"http://www.islalocalcouncil.com/\",\n",
    "    \"http://qrendilocalcouncil.org.mt/\",\n",
    "    \"https://www.michaelnbach.at/BUeRGERSERVICE/Gemeindeservice/Formulare\"\n",
    "    # \"http://pembroke.gov.mt/\",\n",
    "    # \"https://hamrunspartansfc.com/\",\n",
    "    # \"https://www.maltairport.com/\"\n",
    "]\n",
    "\n",
    "keywords = [\"Kontakt\", \"contact\", \"contact us\", \"question\", \"contactus\", \"formulare\"]\n"
   ]
  },
  {
   "cell_type": "code",
   "execution_count": 2,
   "metadata": {},
   "outputs": [],
   "source": [
    "import requests\n",
    "from bs4 import BeautifulSoup\n",
    "from urllib.parse import urljoin, unquote\n",
    "\n",
    "def extract_links_with_keywords(url, keywords):\n",
    "    response = requests.get(url)\n",
    "    soup = BeautifulSoup(response.text, \"html.parser\")\n",
    "\n",
    "    # Find all <a> tags with href attribute\n",
    "    links = soup.find_all(\"a\")\n",
    "\n",
    "    matched_links = []\n",
    "\n",
    "    for link in links:\n",
    "        href = link.get(\"href\")\n",
    "        if href:\n",
    "            href = href.strip()\n",
    "            decoded_href = unquote(href)  # Decode URL\n",
    "\n",
    "            if any(keyword.lower() in decoded_href.lower() for keyword in keywords):\n",
    "                # Check if the link starts with \"http://\" or \"https://\"\n",
    "                if not decoded_href.startswith((\"http://\", \"https://\")):\n",
    "                    # Append the link to the base URL of the webpage\n",
    "                    decoded_href = urljoin(url, decoded_href)\n",
    "\n",
    "                matched_links.append(decoded_href)\n",
    "\n",
    "    return matched_links\n"
   ]
  },
  {
   "cell_type": "code",
   "execution_count": 3,
   "metadata": {},
   "outputs": [],
   "source": [
    "import requests\n",
    "from bs4 import BeautifulSoup\n",
    "\n",
    "def has_contact_form(link):\n",
    "    response = requests.get(link)\n",
    "    soup = BeautifulSoup(response.text, \"html.parser\")\n",
    "\n",
    "    forms = soup.find_all(\"form\")\n",
    "\n",
    "    for form in forms:\n",
    "        submit_button = form.find(\"input\", type=\"submit\")\n",
    "        if not submit_button:\n",
    "            submit_button = form.find(\"button\", type=\"submit\")\n",
    "\n",
    "        if submit_button:\n",
    "            return True\n",
    "\n",
    "    return False\n"
   ]
  },
  {
   "cell_type": "code",
   "execution_count": 4,
   "metadata": {},
   "outputs": [],
   "source": [
    "def get_all_websites_with_contactus(websites):\n",
    "    all_matched_links = []\n",
    "    for webpage_url in websites:\n",
    "        matched_links = extract_links_with_keywords(webpage_url, keywords)\n",
    "        all_matched_links.extend(matched_links)\n",
    "    return all_matched_links"
   ]
  },
  {
   "cell_type": "code",
   "execution_count": 5,
   "metadata": {},
   "outputs": [
    {
     "name": "stdout",
     "output_type": "stream",
     "text": [
      "The link 'https://www.kropp.de/Kurzmenü/Kontakt/' contains a contact form.\n",
      "The link 'https://beaufort.lu/contact/' contains a contact form.\n",
      "The link 'https://beaufort.lu/contact/contactez-nous/' contains a contact form.\n",
      "The link 'https://beaufort.lu/contact/annuaire/' contains a contact form.\n",
      "The link 'https://beaufort.lu/contact/contactez-nous/' contains a contact form.\n",
      "The link 'http://qrendilocalcouncil.org.mt/contactus' contains a contact form.\n",
      "The link 'http://qrendilocalcouncil.org.mt/contactus.php' does not contain a contact form.\n",
      "The link 'https://www.michaelnbach.at/BUeRGERSERVICE/Gemeindeservice/Formulare' does not contain a contact form.\n",
      "The link 'https://www.michaelnbach.at/BUeRGERSERVICE/Gemeindeservice/Formulare' does not contain a contact form.\n"
     ]
    }
   ],
   "source": [
    "\n",
    "links =  get_all_websites_with_contactus(websites)\n",
    "\n",
    "def has_formulare(links):\n",
    "    for link in links:\n",
    "        if has_contact_form(link):\n",
    "            print(f\"The link '{link}' contains a contact form.\")\n",
    "        else:\n",
    "            print(f\"The link '{link}' does not contain a contact form.\")\n",
    "has_formulare(links)"
   ]
  },
  {
   "cell_type": "code",
   "execution_count": null,
   "metadata": {},
   "outputs": [],
   "source": []
  }
 ],
 "metadata": {
  "kernelspec": {
   "display_name": "Python 3.11.3 ('ATAI')",
   "language": "python",
   "name": "python3"
  },
  "language_info": {
   "codemirror_mode": {
    "name": "ipython",
    "version": 3
   },
   "file_extension": ".py",
   "mimetype": "text/x-python",
   "name": "python",
   "nbconvert_exporter": "python",
   "pygments_lexer": "ipython3",
   "version": "3.11.3"
  },
  "orig_nbformat": 4,
  "vscode": {
   "interpreter": {
    "hash": "8a5bd05f7305901977d1548a9a057ab7833b238d223787166fbe3e2dc5aa56c0"
   }
  }
 },
 "nbformat": 4,
 "nbformat_minor": 2
}
