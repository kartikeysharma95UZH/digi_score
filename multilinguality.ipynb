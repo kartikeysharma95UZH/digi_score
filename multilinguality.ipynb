{
 "cells": [
  {
   "cell_type": "code",
   "execution_count": 2,
   "metadata": {},
   "outputs": [],
   "source": [
    "\n",
    "# List of websites to check\n",
    "websites = [\n",
    "    \"https://esch.lu/\",\n",
    "    \"https://beaufort.lu/\",\n",
    "    \"https://www.nadur.gov.mt/\",\n",
    "    \"https://www.deutschland.de/en\",\n",
    "    \"https://www.jonava.lt/\",\n",
    "    \"http://www.islalocalcouncil.com/\"\n",
    "]"
   ]
  },
  {
   "cell_type": "code",
   "execution_count": 3,
   "metadata": {},
   "outputs": [
    {
     "name": "stdout",
     "output_type": "stream",
     "text": [
      "The website https://esch.lu/ has multilingual functionality.\n",
      "The website https://beaufort.lu/ has multilingual functionality.\n",
      "The website https://www.nadur.gov.mt/ has multilingual functionality.\n",
      "The website https://www.deutschland.de/en has multilingual functionality.\n",
      "The website https://www.jonava.lt/ has multilingual functionality.\n",
      "The website http://www.islalocalcouncil.com/ does not have multilingual functionality.\n"
     ]
    }
   ],
   "source": [
    "import requests\n",
    "from bs4 import BeautifulSoup\n",
    "\n",
    "\n",
    "def has_multilingual_functionality(url):\n",
    "    response = requests.get(url)\n",
    "    soup = BeautifulSoup(response.text, \"html.parser\")\n",
    "\n",
    "    # Check for language switcher\n",
    "    language_switcher = soup.find(class_=\"language-switcher\")\n",
    "    if language_switcher:\n",
    "        return True\n",
    "\n",
    "    # Check URL structure for language identifiers\n",
    "    url_parts = url.split(\"/\")\n",
    "    if any(part for part in url_parts if len(part) == 2 and part.islower()):\n",
    "        return True\n",
    "\n",
    "    # Check HTML lang attribute\n",
    "    html_tag = soup.find(\"html\")\n",
    "    if html_tag and html_tag.get(\"lang\"):\n",
    "        return True\n",
    "\n",
    "    # Check for language-specific content\n",
    "    language_elements = soup.find_all(class_=\"language-content\")\n",
    "    if language_elements:\n",
    "        return True\n",
    "\n",
    "    # Check metadata or language tags\n",
    "    meta_tags = soup.find_all(\"meta\")\n",
    "    for meta_tag in meta_tags:\n",
    "        if \"lang\" in meta_tag.attrs or \"xml:lang\" in meta_tag.attrs:\n",
    "            return True\n",
    "\n",
    "    return False\n",
    "\n",
    "# Check multilingual functionality for each website\n",
    "for website_url in websites:\n",
    "    has_multilingual = has_multilingual_functionality(website_url)\n",
    "    if has_multilingual:\n",
    "        print(f\"The website {website_url} has multilingual functionality.\")\n",
    "    else:\n",
    "        print(f\"The website {website_url} does not have multilingual functionality.\")\n"
   ]
  },
  {
   "cell_type": "code",
   "execution_count": 4,
   "metadata": {},
   "outputs": [
    {
     "name": "stderr",
     "output_type": "stream",
     "text": [
      "/var/folders/ph/1h5zpp793rdcqkhysz_f2dnw0000gn/T/ipykernel_17449/1163242334.py:16: DeprecationWarning: The 'text' argument to find()-type methods is deprecated. Use 'string' instead.\n",
      "  if soup.find(text=re.compile(pattern, re.IGNORECASE)):\n",
      "/var/folders/ph/1h5zpp793rdcqkhysz_f2dnw0000gn/T/ipykernel_17449/1163242334.py:23: DeprecationWarning: The 'text' argument to find()-type methods is deprecated. Use 'string' instead.\n",
      "  if soup.find(text=re.compile(pattern, re.IGNORECASE)):\n",
      "/var/folders/ph/1h5zpp793rdcqkhysz_f2dnw0000gn/T/ipykernel_17449/1163242334.py:30: DeprecationWarning: The 'text' argument to find()-type methods is deprecated. Use 'string' instead.\n",
      "  if soup.find(text=re.compile(pattern, re.IGNORECASE)):\n"
     ]
    },
    {
     "name": "stdout",
     "output_type": "stream",
     "text": [
      "Website: https://esch.lu/\n",
      "Address found: False\n",
      "Phone number found: False\n",
      "Email found: False\n",
      "\n",
      "Website: https://beaufort.lu/\n",
      "Address found: True\n",
      "Phone number found: True\n",
      "Email found: True\n",
      "\n",
      "Website: https://www.nadur.gov.mt/\n",
      "Address found: True\n",
      "Phone number found: False\n",
      "Email found: False\n",
      "\n",
      "Website: https://www.deutschland.de/en\n",
      "Address found: True\n",
      "Phone number found: False\n",
      "Email found: True\n",
      "\n",
      "Website: https://www.jonava.lt/\n",
      "Address found: True\n",
      "Phone number found: False\n",
      "Email found: False\n",
      "\n",
      "Website: http://www.islalocalcouncil.com/\n",
      "Address found: False\n",
      "Phone number found: False\n",
      "Email found: False\n",
      "\n"
     ]
    }
   ],
   "source": [
    "import requests\n",
    "from bs4 import BeautifulSoup\n",
    "import re\n",
    "\n",
    "def check_contact_details(url):\n",
    "    response = requests.get(url)\n",
    "    soup = BeautifulSoup(response.text, \"html.parser\")\n",
    "\n",
    "    address_found = False\n",
    "    phone_number_found = False\n",
    "    email_found = False\n",
    "\n",
    "    # Check for address\n",
    "    address_patterns = [r\"address\", r\"location\", r\"contact\\s*address\"]\n",
    "    for pattern in address_patterns:\n",
    "        if soup.find(text=re.compile(pattern, re.IGNORECASE)):\n",
    "            address_found = True\n",
    "            break\n",
    "\n",
    "    # Check for phone number\n",
    "    phone_patterns = [r\"phone\", r\"contact\\s*number\"]\n",
    "    for pattern in phone_patterns:\n",
    "        if soup.find(text=re.compile(pattern, re.IGNORECASE)):\n",
    "            phone_number_found = True\n",
    "            break\n",
    "\n",
    "    # Check for email\n",
    "    email_patterns = [r\"email\", r\"contact\\s*email\"]\n",
    "    for pattern in email_patterns:\n",
    "        if soup.find(text=re.compile(pattern, re.IGNORECASE)):\n",
    "            email_found = True\n",
    "            break\n",
    "\n",
    "    return address_found, phone_number_found, email_found\n",
    "\n",
    "\n",
    "for website in websites:\n",
    "    address, phone_number, email = check_contact_details(website)\n",
    "\n",
    "    print(f\"Website: {website}\")\n",
    "    print(f\"Address found: {address}\")\n",
    "    print(f\"Phone number found: {phone_number}\")\n",
    "    print(f\"Email found: {email}\")\n",
    "    print()\n"
   ]
  },
  {
   "cell_type": "code",
   "execution_count": null,
   "metadata": {},
   "outputs": [],
   "source": []
  }
 ],
 "metadata": {
  "kernelspec": {
   "display_name": "Python 3.11.3 ('ATAI')",
   "language": "python",
   "name": "python3"
  },
  "language_info": {
   "codemirror_mode": {
    "name": "ipython",
    "version": 3
   },
   "file_extension": ".py",
   "mimetype": "text/x-python",
   "name": "python",
   "nbconvert_exporter": "python",
   "pygments_lexer": "ipython3",
   "version": "3.11.3"
  },
  "orig_nbformat": 4,
  "vscode": {
   "interpreter": {
    "hash": "8a5bd05f7305901977d1548a9a057ab7833b238d223787166fbe3e2dc5aa56c0"
   }
  }
 },
 "nbformat": 4,
 "nbformat_minor": 2
}
